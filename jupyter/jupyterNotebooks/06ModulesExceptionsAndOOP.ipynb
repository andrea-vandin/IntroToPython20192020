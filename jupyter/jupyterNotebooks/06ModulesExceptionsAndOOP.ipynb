{
 "cells": [
  {
   "cell_type": "markdown",
   "metadata": {},
   "source": [
    "<center><font size=\"+4\">Introduction to Programming in Python 2019/2020</font></center>\n",
    "<center><font size=\"+2\">Sant'Anna School of Advanced Studies, Pisa, Italy</font></center><br/>\n",
    "\n",
    "<center><font size=\"+2\">Course responsible</font></center>\n",
    "<center><font size=\"+2\">Andrea Vandin a.vandin@santannapisa.it</font></center>\n",
    "\n",
    "<center><font size=\"+2\">Co-lecturer </font></center>\n",
    "<center><font size=\"+2\">Daniele Licari d.licari@santannapisa.it</font></center>\n",
    "\n",
    "---"
   ]
  },
  {
   "cell_type": "markdown",
   "metadata": {},
   "source": [
    "<center><font size=\"+4\">Module 6: Modules,</font></center>\n",
    "<center><font size=\"+4\"> Exceptions & OO Programming</font></center>\n",
    "<center><font size=\"+2\"> With applications to</font></center>\n",
    "<center><font size=\"+2\"> Financial Betting Markets and SIR models</font></center>"
   ]
  },
  {
   "cell_type": "code",
   "execution_count": null,
   "metadata": {},
   "outputs": [],
   "source": [
    "from IPython.display import Image, display\n",
    "img=Image(filename='images/tentativeLecturePlan.png',width=800)\n",
    "display(img)"
   ]
  },
  {
   "cell_type": "markdown",
   "metadata": {},
   "source": [
    "# Importing Modules"
   ]
  },
  {
   "cell_type": "markdown",
   "metadata": {},
   "source": [
    "As discussed several times, it is very important to structure your programs\n",
    "* A Python program might consist of (code from) multiple files\n",
    "* Each file is seen as a separate _module_ that can be imported in the current one"
   ]
  },
  {
   "cell_type": "markdown",
   "metadata": {},
   "source": [
    "## Import Python modules"
   ]
  },
  {
   "cell_type": "markdown",
   "metadata": {},
   "source": [
    "Does this ring a bell to you?\n",
    "* We already imported many _predefined python modules_ in the previous classes.\n",
    "\n",
    "For example..."
   ]
  },
  {
   "cell_type": "code",
   "execution_count": null,
   "metadata": {},
   "outputs": [],
   "source": [
    "import csv\n",
    "import matplotlib.pyplot as plt"
   ]
  },
  {
   "cell_type": "code",
   "execution_count": null,
   "metadata": {},
   "outputs": [],
   "source": [
    "from IPython.display import Image, display\n",
    "#img=Image(filename='images/tentativeLecturePlan.png',width=300)\n",
    "img=Image(filename='images/tentativeLecturePlan.png',width=300)\n",
    "display(img)"
   ]
  },
  {
   "cell_type": "markdown",
   "metadata": {},
   "source": [
    "What is the role of the `from` keyword?\n",
    "* It allows you to specify functions or types of interest that you want to import\n",
    "* You will import only them\n",
    "* Also, you will not need to specify the name of the module everytime you use the imported functions/types"
   ]
  },
  {
   "cell_type": "code",
   "execution_count": null,
   "metadata": {},
   "outputs": [],
   "source": [
    "import IPython.display\n",
    "img=IPython.display.Image(filename='images/tentativeLecturePlan.png',width=300)\n",
    "IPython.display.display(img)"
   ]
  },
  {
   "cell_type": "markdown",
   "metadata": {},
   "source": [
    "## Import Python modules from local Python files (created by you)"
   ]
  },
  {
   "cell_type": "markdown",
   "metadata": {},
   "source": [
    "Importing Python code defined in Python files is rather simple\n",
    "* I created a very simple Python file (i.e., a file with extension .py)\n",
    "  * Do not confuse a Python file (.py) with a jupyter notebook (.ipynb)\n",
    "\n",
    "The file is [test_import_py.py](test_import_py.py)\n",
    "* We just need to write the following"
   ]
  },
  {
   "cell_type": "code",
   "execution_count": null,
   "metadata": {},
   "outputs": [],
   "source": [
    "import test_import_py"
   ]
  },
  {
   "cell_type": "markdown",
   "metadata": {},
   "source": [
    "After this, we can use any type or function defined in the file"
   ]
  },
  {
   "cell_type": "code",
   "execution_count": null,
   "metadata": {},
   "outputs": [],
   "source": [
    "test_import_py.my_function()"
   ]
  },
  {
   "cell_type": "markdown",
   "metadata": {},
   "source": [
    "If you don't want to specify the name of the file everytime you use the function\n",
    "* Then explicitly import the function!"
   ]
  },
  {
   "cell_type": "code",
   "execution_count": null,
   "metadata": {},
   "outputs": [],
   "source": [
    "from test_import_py import my_function"
   ]
  },
  {
   "cell_type": "code",
   "execution_count": null,
   "metadata": {},
   "outputs": [],
   "source": [
    "my_function()"
   ]
  },
  {
   "cell_type": "markdown",
   "metadata": {},
   "source": [
    "What if the Python file is not in the folder of the current notebook?\n",
    "* Just specify the relative path of Python file using '.' as separator"
   ]
  },
  {
   "cell_type": "code",
   "execution_count": null,
   "metadata": {},
   "outputs": [],
   "source": [
    "import other.test_import_py_Copy1\n",
    "other.test_import_py_Copy1.my_function2()"
   ]
  },
  {
   "cell_type": "markdown",
   "metadata": {},
   "source": [
    "## Import Jupyter Notebooks"
   ]
  },
  {
   "cell_type": "markdown",
   "metadata": {},
   "source": [
    "__Jupyter notebooks are not python files__\n",
    "* They are collections of textual (markdown) and code (Python) cells\n",
    "\n",
    "Importing jupyter notebooks requires some hacks.\n",
    "* [There are several options to do this](https://stackoverflow.com/questions/20186344/ipynb-import-another-ipynb-file)\n",
    "\n",
    "A very simple and way is the following\n",
    "  * (but remember to save the _other_ notebook, otherwise you will load the last saved version :D)"
   ]
  },
  {
   "cell_type": "code",
   "execution_count": null,
   "metadata": {},
   "outputs": [],
   "source": [
    "%run test_import_nb.ipynb"
   ]
  },
  {
   "cell_type": "markdown",
   "metadata": {},
   "source": [
    "Now you can just invoke any function defined in the _other_ notebook"
   ]
  },
  {
   "cell_type": "code",
   "execution_count": null,
   "metadata": {},
   "outputs": [],
   "source": [
    "my_function_nb()"
   ]
  },
  {
   "cell_type": "markdown",
   "metadata": {},
   "source": [
    "What if the other notebook is not in the same folder of the current notebook?\n",
    "* Just specify the relative path of the other notebook"
   ]
  },
  {
   "cell_type": "code",
   "execution_count": null,
   "metadata": {},
   "outputs": [],
   "source": [
    "%run other/test_import_nb_Copy1.ipynb"
   ]
  },
  {
   "cell_type": "code",
   "execution_count": null,
   "metadata": {},
   "outputs": [],
   "source": [
    "my_function_nb2()"
   ]
  },
  {
   "cell_type": "markdown",
   "metadata": {},
   "source": [
    "# Exceptions and exception handling"
   ]
  },
  {
   "cell_type": "markdown",
   "metadata": {},
   "source": [
    "There are two types of _errors_ in programs\n",
    "* Compile-time errors: detected while you write the program\n",
    "  * The Python interpreter complains if you wrote a _syntactically wrong_ Python program\n",
    "* Run-time erros: detected while the program is executed\n",
    "  * Your program is syntactically correct, but there might be unexpected problems, e.g. \n",
    "    * if you try dividing by zero\n",
    "    * if you try accessing an index in a list/str beyond its actual size"
   ]
  },
  {
   "cell_type": "code",
   "execution_count": null,
   "metadata": {},
   "outputs": [],
   "source": [
    "def divide(n,d):\n",
    "    res = n/d\n",
    "    return res \n",
    "\n",
    "print(divide(4,2))\n",
    "#print(divide(4,0))#ERROR!"
   ]
  },
  {
   "cell_type": "code",
   "execution_count": null,
   "metadata": {},
   "outputs": [],
   "source": [
    "my_str = \"ciao\"\n",
    "print(my_str[3])\n",
    "#print(my_str[4])#ERROR!"
   ]
  },
  {
   "cell_type": "markdown",
   "metadata": {},
   "source": [
    "All modern programming languages provide a machinery to _catch_, handle and recover from such unexcepted __exceptional__ cases\n",
    "* [__Exception handling__](https://docs.python.org/3/tutorial/errors.html)\n",
    "\n",
    "Exception handling is thus a way to make your program robust to unexpected inputs"
   ]
  },
  {
   "cell_type": "markdown",
   "metadata": {},
   "source": [
    "## Catching Exceptions"
   ]
  },
  {
   "cell_type": "markdown",
   "metadata": {},
   "source": [
    "### Try and except"
   ]
  },
  {
   "cell_type": "code",
   "execution_count": null,
   "metadata": {},
   "outputs": [],
   "source": [
    "try:\n",
    "    #print(divide(4,0))#HANDLED ERROR!\n",
    "    print(divide(4,'ciao'))#HANDLED ERROR!\n",
    "except ZeroDivisionError:\n",
    "    print('You tried dividing by zero')\n",
    "except TypeError as e:\n",
    "    print('The function divide requires two numeric data types')\n",
    "    print('This is the thrown exception:',e)"
   ]
  },
  {
   "cell_type": "code",
   "execution_count": null,
   "metadata": {},
   "outputs": [],
   "source": [
    "whattodo = 'continue'\n",
    "i=1\n",
    "while whattodo != 'stop':\n",
    "    try:\n",
    "        print('Give me numerator and denominator, in two lines')\n",
    "        n = int(input())\n",
    "        d = int(input())\n",
    "        print(divide(n,d))\n",
    "        whattodo = input(\"Write 'stop' if you want to terminate\")\n",
    "    except ZeroDivisionError:\n",
    "        print('You tried dividing by zero. Try again')\n",
    "    except ValueError:\n",
    "        print('The function divide requires two int. Try again')\n",
    "    print('Iteration',i,'completed')\n",
    "    print()"
   ]
  },
  {
   "cell_type": "markdown",
   "metadata": {},
   "source": [
    "Did you notice what happens after an exception happen in line `print(divide(n,d))`?\n",
    "1. We jump to the correct `except` branch\n",
    "  * The one for the type of the thrown exception\n",
    "  * We skip any instruction after the one raising the exection\n",
    "    * We don't get asked whether we want to stop!\n",
    "2. We execute the body of the `except`\n",
    "3. We continue executing the next instruction after the `try`-`except` statement"
   ]
  },
  {
   "cell_type": "markdown",
   "metadata": {},
   "source": [
    "### The finally block"
   ]
  },
  {
   "cell_type": "markdown",
   "metadata": {},
   "source": [
    "The try-catch statements allows for a `finally` clause\n",
    "* Code that will be always executed\n",
    "  * If an exception has been thrown\n",
    "  * If no exception has been thrown\n",
    "\n",
    "With the following change we are guaranteed that we will always be asked wheter we want to continue or not\n",
    "* Even if we remove the except"
   ]
  },
  {
   "cell_type": "code",
   "execution_count": null,
   "metadata": {},
   "outputs": [],
   "source": [
    "whattodo = 'continue'\n",
    "i=1\n",
    "while whattodo != 'stop':\n",
    "    try:\n",
    "        print('Give me numerator and denominator, in two lines')\n",
    "        n = int(input())\n",
    "        d = int(input())\n",
    "        print(divide(n,d))\n",
    "    except ZeroDivisionError:\n",
    "         print('You tried dividing by zero. Try again')\n",
    "    except ValueError:\n",
    "        print('The function divide requires two int. Try again')\n",
    "    finally:\n",
    "        whattodo = input(\"Write 'stop' if you want to terminate\")\n",
    "    print('Iteration',i,'completed')\n",
    "    print()    "
   ]
  },
  {
   "cell_type": "markdown",
   "metadata": {},
   "source": [
    "The finally clause is particularly useful when using external resources that have to be dealt with no matter what\n",
    "* The classic example is a file we are reading/writing"
   ]
  },
  {
   "cell_type": "code",
   "execution_count": null,
   "metadata": {},
   "outputs": [],
   "source": [
    "#Open a file to write in it (appending to previous text (a))\n",
    "file = open('data.txt', 'a')\n",
    "try:\n",
    "    for i in range(2):\n",
    "        print('Give me numerator and denominator, in two lines')\n",
    "        n = int(input())\n",
    "        d = int(input())\n",
    "        res=divide(n,d)\n",
    "        file.write(str(res))\n",
    "        file.write('\\n')\n",
    "finally:\n",
    "    print('Closing the file')\n",
    "    file.close()\n",
    "print('This code will not be executed in case of exception, But we have the guarantee to have closed the file.')\n",
    "\n",
    "#file.write(\"I can't write on a closed file\") #ERROR"
   ]
  },
  {
   "cell_type": "markdown",
   "metadata": {},
   "source": [
    "### The else block"
   ]
  },
  {
   "cell_type": "markdown",
   "metadata": {},
   "source": [
    "We can also use an `else` block which is executed if no exeption is thrown"
   ]
  },
  {
   "cell_type": "code",
   "execution_count": null,
   "metadata": {},
   "outputs": [],
   "source": [
    "try:\n",
    "    #4/0\n",
    "    4/2\n",
    "except ZeroDivisionError:\n",
    "    print('Division by zero')\n",
    "else:\n",
    "    print('No exception')\n",
    "finally:\n",
    "    print('No matter what, this block will be executed as last')"
   ]
  },
  {
   "cell_type": "markdown",
   "metadata": {},
   "source": [
    "## Raising exceptions"
   ]
  },
  {
   "cell_type": "markdown",
   "metadata": {},
   "source": [
    "The exception handling mechanism also allows us to throw exceptions\n",
    "* This is useful in many occasions\n",
    "* But don't abuse of this feature!\n",
    "  * Exceptions are for exceptional cases\n",
    "  * Exaggerating with their use will make your program\n",
    "    * Less efficient\n",
    "    * More obfuscated, and therefore less manutenable"
   ]
  },
  {
   "cell_type": "code",
   "execution_count": null,
   "metadata": {},
   "outputs": [],
   "source": [
    "try:\n",
    "    raise ZeroDivisionError \n",
    "except ZeroDivisionError:\n",
    "    print('The exception has been thrown')"
   ]
  },
  {
   "cell_type": "markdown",
   "metadata": {},
   "source": [
    "## Exception propagation"
   ]
  },
  {
   "cell_type": "markdown",
   "metadata": {},
   "source": [
    "If an exception is thrown within a function which does not handle it\n",
    "* It will be propagated to the caller of the function. It this does not handle it\n",
    "  * It will be propagated to the caller of the caller of the function \n",
    "    * And so on, until we reach the top level of execution"
   ]
  },
  {
   "cell_type": "code",
   "execution_count": null,
   "metadata": {},
   "outputs": [],
   "source": [
    "from IPython.display import Image, display\n",
    "img=Image(filename='images/exceptionPropagation.png',width=800)\n",
    "display(img)"
   ]
  },
  {
   "cell_type": "code",
   "execution_count": null,
   "metadata": {},
   "outputs": [],
   "source": [
    "def func1():\n",
    "    try:\n",
    "        func2()\n",
    "    except ZeroDivisionError:\n",
    "        print('In func1 I detected a ZeroDivisionError exception')\n",
    "        \n",
    "def func2():\n",
    "    raise ZeroDivisionError\n",
    "        \n",
    "\n",
    "try:\n",
    "    func1()\n",
    "except ZeroDivisionError:\n",
    "    print('In the top-level I detected a ZeroDivisionError exception')"
   ]
  },
  {
   "cell_type": "code",
   "execution_count": null,
   "metadata": {},
   "outputs": [],
   "source": [
    "def func1():\n",
    "    try:\n",
    "        func2()\n",
    "    finally:\n",
    "        print('Finally of func1')\n",
    "        \n",
    "def func2():\n",
    "    raise ZeroDivisionError\n",
    "        \n",
    "\n",
    "try:\n",
    "    func1()\n",
    "finally:\n",
    "    print('Finally of top-level')"
   ]
  },
  {
   "cell_type": "markdown",
   "metadata": {},
   "source": [
    "Image and example by Prof. Mirco Tribastone, IMT School for Advanced Studies Lucca, Italy"
   ]
  },
  {
   "cell_type": "markdown",
   "metadata": {},
   "source": [
    "> The [exception handling machinery of Python](https://docs.python.org/3/tutorial/errors.html) is actually richer than this\n",
    "> * But in this course we will not investigate this aspect any further"
   ]
  },
  {
   "cell_type": "markdown",
   "metadata": {},
   "source": [
    "# Object-oriented Programming"
   ]
  },
  {
   "cell_type": "markdown",
   "metadata": {},
   "source": [
    "In the previous class we discussed how to modularize a program into _functions_\n",
    "* Self-contained units of login with input/output\n",
    "* Enabling _procedural programming_\n",
    "\n",
    "In this part of the class we are \n",
    "* __bringing modularization to the next level__\n",
    "* showing how programs can can be further modularized using OOP\n"
   ]
  },
  {
   "cell_type": "markdown",
   "metadata": {},
   "source": [
    "Object-oriented Programming is a programming paradigm \n",
    "* which allows to transform the problem at hand into a set of interacting objects (or agents)\n",
    "  * therefore much easier for us to visualize and reason about\n",
    "* which naturally leads to modularized software\n",
    "* extremely popular in industry\n",
    "  * because _it is easier to program using objects_\n",
    "    * therefore developers are much more productive"
   ]
  },
  {
   "cell_type": "markdown",
   "metadata": {},
   "source": [
    "## Classes"
   ]
  },
  {
   "cell_type": "markdown",
   "metadata": {},
   "source": [
    "Before talking about objects we need to talk about classes\n",
    "* Intuitively, a class defines a new type\n",
    "* Every instance of such a type is an object\n",
    "  * A class is the type of an object\n",
    "  * A class specifies the _structure_ of every object of such class\n",
    "\n",
    "A class `C` specifies\n",
    "* The type of data that every object of class `C` will contain\n",
    "* A numer of functions, or _methods_ that can be used on objects of class `C` to access and modify such data"
   ]
  },
  {
   "cell_type": "code",
   "execution_count": null,
   "metadata": {},
   "outputs": [],
   "source": [
    "class Individual:\n",
    "    current_year = 2020\n",
    "    \n",
    "    def __init__(self,name,birth_year,favourite_sport='None'):\n",
    "        self.name=name\n",
    "        self.birth_year=birth_year\n",
    "        self.favourite_sport=favourite_sport\n",
    "        \n",
    "    def getName(self):\n",
    "        return self.name\n",
    "    \n",
    "    def setName(self,new_name):\n",
    "        if not new_name.isalpha():\n",
    "            print(new_name,'is not admissible')\n",
    "        else:\n",
    "            self.name=new_name\n",
    "    \n",
    "    def getAge(self):\n",
    "        return Individual.current_year - self.birth_year\n",
    "    \n",
    "    def getSport(self):\n",
    "        return self.favourite_sport\n",
    "    \n",
    "    def setSport(self,new_favourite_sport):\n",
    "        self.favourite_sport=new_favourite_sport\n",
    "    \n",
    "    def print(self):\n",
    "        msg = self.getName()+', born in '+str(self.birth_year)+','\n",
    "        if(self.favourite_sport == 'None'):\n",
    "            print(msg,'does not like sport')\n",
    "        else:\n",
    "            print(msg,'likes',self.getSport())"
   ]
  },
  {
   "cell_type": "markdown",
   "metadata": {},
   "source": [
    "The class above has \n",
    "* __Name__ `Individual`\n",
    "  * We can use it to create objects representing people\n",
    "* __7 methods__, where\n",
    "  * The first argument of each method refers to the _current object_, the object on which it has been invoked\n",
    "    * By convention, we name it `self`\n",
    "  * We invoke a method `m` on an object `o` by using the _dot notation_ `o.m()`\n",
    "    * `andrea.print()`\n",
    "    * `andrea.setJob('SSSA')`\n",
    "  * `__init__` is the constructor of the class. It is executed every time we create a new object\n",
    "    * `andrea = Individual('Andrea',1984,'DTU')`\n",
    "* __3 attributes__ attached to objects\n",
    "  * The `name` of the individual\n",
    "  * The `birth_year` of the individual\n",
    "  * The `job_place` of the individual if any, or initialized to `'Unemployed'` otherwise\n",
    "  * __NOTE: every object has its own value for these attributes__\n",
    "* __1 attribute__ attached to the class\n",
    "  * This is a sort of _global attribute__ whose value is shared by all objects\n",
    "  * __NOTE: all objects share the same value for this attribute__"
   ]
  },
  {
   "cell_type": "code",
   "execution_count": null,
   "metadata": {},
   "outputs": [],
   "source": [
    "help(Individual)"
   ]
  },
  {
   "cell_type": "markdown",
   "metadata": {},
   "source": [
    "## Objects"
   ]
  },
  {
   "cell_type": "code",
   "execution_count": null,
   "metadata": {},
   "outputs": [],
   "source": [
    "Now we can use the defined class `Individual` to create instances of `Individual`, that is objects of such class"
   ]
  },
  {
   "cell_type": "code",
   "execution_count": null,
   "metadata": {},
   "outputs": [],
   "source": [
    "ambra = Individual('Ambra', 1984,\"Universita' di Pisa\")\n",
    "print(type(ambra))\n",
    "ambra.print()\n",
    "\n",
    "andrea = Individual('Andrea',1984)\n",
    "andrea.print()\n",
    "\n",
    "andrea.setSport('Rugby')\n",
    "andrea.print()\n",
    "\n",
    "Individual.current_year=2020\n",
    "print(\"Andrea is\",andrea.getAge())\n",
    "print(\"Ambra is\",ambra.getAge())\n",
    "Individual.current_year=2010\n",
    "print(\"Andrea is\",andrea.getAge())\n",
    "print(\"Ambra is\",ambra.getAge())"
   ]
  },
  {
   "cell_type": "markdown",
   "metadata": {},
   "source": [
    "Beware! A __not nice feature__ of Python is that it cannot actually _hide_ attributes\n",
    "* A feature common of most of OO languages\n",
    "* Gives you guarantee of modularization"
   ]
  },
  {
   "cell_type": "code",
   "execution_count": null,
   "metadata": {},
   "outputs": [],
   "source": [
    "ambra.setName('Ambra')\n",
    "\n",
    "#No problems here\n",
    "print(ambra.getName())\n",
    "print(ambra.name+\"\\n\")\n",
    "\n",
    "#But what about here? You can't guarantee that the name is admissible\n",
    "ambra.setName('_wrongName')\n",
    "print('The name is',ambra.getName()+\"\\n\")\n",
    "\n",
    "ambra.name = '_wrongName'\n",
    "print('The name is',ambra.getName())"
   ]
  },
  {
   "cell_type": "markdown",
   "metadata": {},
   "source": [
    "Beware! A __not nice feature__ of Python is that attributes can be attached to objects on-the-fly"
   ]
  },
  {
   "cell_type": "code",
   "execution_count": null,
   "metadata": {},
   "outputs": [],
   "source": [
    "andrea.surname = 'Vandin'\n",
    "print(andrea.surname)"
   ]
  },
  {
   "cell_type": "markdown",
   "metadata": {},
   "source": [
    "## Inheritance"
   ]
  },
  {
   "cell_type": "markdown",
   "metadata": {},
   "source": [
    "A nice feature of OOP is that we can _specialize_ existing classes by _extending_ them into more specific versions\n",
    "* In the _child class_ (or __subclass__) we can reuse all unchanged code and methods from the _father class_ (or __superclass__)\n",
    "* We only need to modify or add what changes\n",
    "    * Redefined methods are known as __overridden methods__ "
   ]
  },
  {
   "cell_type": "code",
   "execution_count": null,
   "metadata": {},
   "outputs": [],
   "source": [
    "class Student(Individual):\n",
    "    def __init__(self,name,birth_year,student_id,university,favourite_sport='None'):\n",
    "        self.name=name\n",
    "        self.birth_year=birth_year\n",
    "        self.favourite_sport=favourite_sport\n",
    "        self.university=university\n",
    "        self.student_id=student_id\n",
    "    \n",
    "    def getUniversity(self):\n",
    "        return self.university\n",
    "    \n",
    "    def getStudentId(self):\n",
    "        return self.student_id\n",
    "    \n",
    "    def print(self):\n",
    "        msg = self.getName() + ', born in ' + str(self.birth_year) + ', studies at ' + self.getUniversity() + ' with id ' +str(self.getStudentId())\n",
    "        if(self.favourite_sport!='None'):\n",
    "            msg = msg + \". \"+self.getName()+\" loves \"+self.getSport()\n",
    "        print(msg)"
   ]
  },
  {
   "cell_type": "code",
   "execution_count": null,
   "metadata": {},
   "outputs": [],
   "source": [
    "marco = Student('Marco',1984,123,'SSSA')\n",
    "marco.print()\n",
    "\n",
    "marco.setSport('Rubgy')\n",
    "marco.print()\n",
    "\n",
    "marta = Student('Marta',1984,124,'SSSA','Tennis')\n",
    "marta.print()"
   ]
  },
  {
   "cell_type": "markdown",
   "metadata": {},
   "source": [
    "The nice thing, is that we can treat individuals and students _in very similar fashion without needing to distinguish among the different types"
   ]
  },
  {
   "cell_type": "code",
   "execution_count": null,
   "metadata": {},
   "outputs": [],
   "source": [
    "class University:\n",
    "    def __init__(self,name):\n",
    "        self.name=name\n",
    "        self.members=[]\n",
    "\n",
    "    def addMember(self,individual):\n",
    "        self.members.append(individual)\n",
    "    \n",
    "    def print(self):\n",
    "        print(self.name + ' has',len(self.members),'members:')\n",
    "        for m in self.members:\n",
    "            #We don't know if we are invoking Individual.print or Student.print\n",
    "            m.print()"
   ]
  },
  {
   "cell_type": "code",
   "execution_count": null,
   "metadata": {},
   "outputs": [],
   "source": [
    "sssa = University('SSSA')\n",
    "sssa.addMember(andrea)\n",
    "\n",
    "sssa.addMember(marco)\n",
    "sssa.addMember(marta)\n",
    "\n",
    "sssa.print()"
   ]
  },
  {
   "cell_type": "markdown",
   "metadata": {},
   "source": [
    "> The [object-oriented machinery of Python](https://docs.python.org/3/tutorial/classes.html) is actually richer than this\n",
    "> * But in this course we will not investigate this aspect any further"
   ]
  },
  {
   "cell_type": "markdown",
   "metadata": {},
   "source": [
    "# A simple example of repeated betting markets (a very simple financial market)"
   ]
  },
  {
   "cell_type": "markdown",
   "metadata": {},
   "source": [
    "We are now going to implement in Python using OOP a model of a simple _repeated betting market considered in:\n",
    "* [Kets, W et al, Betting Strategies, Market Selection, and the Wisdom of Crowds, 2014](https://www.aaai.org/ocs/index.php/AAAI/AAAI14/paper/viewFile/8387/8494)\n",
    "* [Bottazzi G., Giachini D., Far from the madding crowd: collective wisdom in prediction markets, 2019](https://www.tandfonline.com/doi/abs/10.1080/14697688.2019.1622285)\n",
    "\n",
    "__I thank Daniele Giachini for the great help in preparing this section__"
   ]
  },
  {
   "cell_type": "code",
   "execution_count": 7,
   "metadata": {},
   "outputs": [
    {
     "data": {
      "image/png": "[encoded data removed]",
      "text/plain": [
       "<IPython.core.display.Image object>"
      ]
     },
     "metadata": {
      "image/png": {
       "width": 1000
      }
     },
     "output_type": "display_data"
    }
   ],
   "source": [
    "from IPython.display import Image, display\n",
    "img=Image(filename='images/bettingMarket.png',width=1000)\n",
    "display(img)"
   ]
  },
  {
   "cell_type": "markdown",
   "metadata": {},
   "source": [
    "We are going to model a market with 2 agents which place bets in several iterations\n",
    "* __Event__\n",
    "  * We observe the event `evt` \n",
    "  * At every iteration, `evt` might happen or not according to a secret probability `pEvent`\n",
    "* __Agents__\n",
    "  * Each agent has an initial amount of money, or `wealth`\n",
    "  * At every iteration, each agent places bets on the realization (happening) of `evt` or on its 'not realization'\n",
    "  * Each agent decides on what to bet, and how much to bet, depending on some factors\n",
    "    * _What to bet_: Each agent has an opinion about the probability of `evt`, stored in the attribute `belief`\n",
    "    * _How much to bet_: All agents share a common _propensity to bet_ `betPropensity`\n",
    "        * It is value from 0 to 1\n",
    "        * The higher is this value, the higher percentage of wealth agents will bet\n",
    "* __Bets__\n",
    "  * At every iteration, the market computes the unitary price (from 0 to 1) for betting on the realization of `evt`, `priceT`\n",
    "  * The price of betting on the non-realization of `evt` is `1-priceT`"
   ]
  },
  {
   "cell_type": "code",
   "execution_count": 2,
   "metadata": {},
   "outputs": [],
   "source": [
    "import random"
   ]
  },
  {
   "cell_type": "code",
   "execution_count": 3,
   "metadata": {},
   "outputs": [],
   "source": [
    "class Agent:\n",
    "    def __init__(self,w,b):\n",
    "        self.wealth=w #my current amount of money\n",
    "        self.belief=b #my belief on the probability of evt\n",
    "        \n",
    "    def getWealth(self):\n",
    "        return self.wealth\n",
    "        \n",
    "    def getBelief(self):\n",
    "        return self.belief\n",
    "    \n",
    "    def normalizeWealth(self,totW):\n",
    "        self.wealth=self.wealth/totW\n",
    "    \n",
    "    #evtAtT=true: \n",
    "    #    evt realized at time t\n",
    "    #betPropensity:\n",
    "    #    Propensity to bet in [0,1]. \n",
    "    #    The higher the value, the higher the % of wealth that agents will bet\n",
    "    #priceT:\n",
    "    #    Price to place a bet 'evt realizes'\n",
    "    #    The bet is a contratto which pays 1 if evt happens\n",
    "    #1-priceT:\n",
    "    #    Price to place a bet 'evt does not realize'\n",
    "    #    The bet is a contratto which pays 1 if evt does not happen\n",
    "    \n",
    "    def updateWealth(self,evtAtT,betPropensity,priceT):\n",
    "        portfolio=0\n",
    "        if evtAtT:\n",
    "            if priceT!=0 :\n",
    "                #I encode the fact that the agent placed a bet on the event happening\n",
    "                #  strategy is the % of wealth bet on the event happening\n",
    "                #  This is an example of fractional Kelly strategy\n",
    "                #    (1-c)*pt is the part of wealth I want to keep safe in my pocket :D\n",
    "                #    c*self.belief is how much I want to bet\n",
    "                strategy = (1 - betPropensity)*priceT + betPropensity*self.belief\n",
    "                #Numerator  : how much wealth I bet\n",
    "                #Denumerator: prize of the bet/contract\n",
    "                #portfolio: number of bets/contracts bought\n",
    "                portfolio = strategy*self.wealth/priceT\n",
    "        else:\n",
    "            if 1-priceT != 0 :\n",
    "                strategy = (1 - betPropensity)*(1-priceT) + betPropensity*(1-self.belief)\n",
    "                portfolio = strategy*self.wealth/(1-priceT)   \n",
    "        \n",
    "        #My new wealth is the portfolio itself. Because: \n",
    "        #  Each contract/bet pays 1. \n",
    "        #  My wealth saved in the pocket is included in the portfolio.\n",
    "        self.wealth= portfolio"
   ]
  },
  {
   "cell_type": "code",
   "execution_count": 4,
   "metadata": {},
   "outputs": [],
   "source": [
    "class NoiseTraderAgent(Agent):\n",
    "    def consult_horoscope(self):\n",
    "        self.belief = random.random()\n",
    "        #print('The horoscope tells me',self.belief)\n",
    "        \n",
    "    def updateWealth(self,evtAtT,betPropensity,priceT):\n",
    "        self.consult_horoscope()\n",
    "        super().updateWealth(evtAtT,betPropensity,priceT)"
   ]
  },
  {
   "cell_type": "code",
   "execution_count": 5,
   "metadata": {},
   "outputs": [],
   "source": [
    "class Market:\n",
    "    def __init__(self,betPropensity,pEvent,initW,beliefs,seed):\n",
    "        self.betPropensity=betPropensity\n",
    "        self.pEvent=pEvent\n",
    "        self.agents=[]\n",
    "        self.agents.append(Agent(initW[0],beliefs[0]))\n",
    "        self.agents.append(Agent(initW[1],beliefs[1]))\n",
    "        #self.agents.append(NoiseTraderAgent(initW[1],beliefs[1]))\n",
    "        self.t=0\n",
    "        self.priceT=0\n",
    "        self.evtAtT=False\n",
    "        random.seed(seed)\n",
    "        \n",
    "    def performOneStep(self):\n",
    "        self.t+=1\n",
    "        self.updateAggregateMeasures()\n",
    "        self.sampleGlobalProbabilisticVariables()\n",
    "        self.updateAgents()\n",
    "        self.normalizeAgentsMeasures()\n",
    "        \n",
    "    def updateAggregateMeasures(self):\n",
    "        self.priceT=0\n",
    "        for agenti in self.agents:\n",
    "            self.priceT += agenti.getBelief()*agenti.getWealth()\n",
    "        #print('New priceT',self.priceT)\n",
    "            \n",
    "    def sampleGlobalProbabilisticVariables(self):\n",
    "        self.evtAtT = (random.random() <= self.pEvent)\n",
    "        #if self.evtAtT:\n",
    "        #    print('!!!evt happened!!!')\n",
    "        \n",
    "    def updateAgents(self):\n",
    "        for agent in self.agents:\n",
    "            agent.updateWealth(self.evtAtT,self.betPropensity,self.priceT)\n",
    "        \n",
    "    def normalizeAgentsMeasures(self):\n",
    "        totW = 0;\n",
    "        for agent in self.agents:\n",
    "            totW += agent.getWealth()\n",
    "        for agent in self.agents:\n",
    "            agent.normalizeWealth(totW);\n",
    "            \n",
    "    def __str__(self):\n",
    "        descr = 't='+str(self.t)\n",
    "        descr+= ' priceT='+str(round(self.priceT,2))+\"\\n  \"\n",
    "        for i in range(len(self.agents)):\n",
    "            w=str(round(self.agents[i].getWealth(),2))\n",
    "            descr+=\" w\"+str(i)+\"=\"+w\n",
    "        return descr"
   ]
  },
  {
   "cell_type": "code",
   "execution_count": 6,
   "metadata": {},
   "outputs": [
    {
     "name": "stdout",
     "output_type": "stream",
     "text": [
      "Initially\n",
      "t=0 priceT=0\n",
      "   w0=0.5 w1=0.5\n",
      "\n",
      "t=100000 priceT=0.65\n",
      "   w0=0.69 w1=0.31\n",
      "\n"
     ]
    }
   ],
   "source": [
    "c=0.5\n",
    "pEvent=0.65\n",
    "initW=[0.5,0.5]\n",
    "beliefs=[0.8,0.4]\n",
    "seed=3 \n",
    "market = Market(c,pEvent,initW,beliefs,seed)\n",
    "\n",
    "print('Initially')\n",
    "print(market)\n",
    "print()\n",
    "\n",
    "# for step in range(35):\n",
    "#     print('Step',str(step+1))\n",
    "#     market.performOneStep()\n",
    "#     print(market)\n",
    "\n",
    "for step in range(100000):\n",
    "    market.performOneStep()\n",
    "print(market)\n",
    "print()"
   ]
  },
  {
   "cell_type": "code",
   "execution_count": null,
   "metadata": {},
   "outputs": [],
   "source": []
  }
 ],
 "metadata": {
  "kernelspec": {
   "display_name": "env_intro2python1920",
   "language": "python",
   "name": "env_intro2python1920"
  },
  "language_info": {
   "codemirror_mode": {
    "name": "ipython",
    "version": 3
   },
   "file_extension": ".py",
   "mimetype": "text/x-python",
   "name": "python",
   "nbconvert_exporter": "python",
   "pygments_lexer": "ipython3",
   "version": "3.8.2"
  },
  "toc-autonumbering": true
 },
 "nbformat": 4,
 "nbformat_minor": 4
}
