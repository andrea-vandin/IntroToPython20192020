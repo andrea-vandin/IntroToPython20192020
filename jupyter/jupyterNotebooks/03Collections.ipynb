{
 "cells": [
  {
   "cell_type": "markdown",
   "metadata": {},
   "source": [
    "<font size=\"+4\">Collections</font>"
   ]
  },
  {
   "cell_type": "markdown",
   "metadata": {},
   "source": [
    "This is a notebook used as 'slides' for the class 3 on __collections__"
   ]
  },
  {
   "cell_type": "markdown",
   "metadata": {},
   "source": [
    "---"
   ]
  },
  {
   "cell_type": "markdown",
   "metadata": {
    "toc-hr-collapsed": true,
    "toc-nb-collapsed": true
   },
   "source": [
    "# Intro: sequences, sets, dictionaries"
   ]
  },
  {
   "cell_type": "markdown",
   "metadata": {},
   "source": [
    "A collection is a data type able to store 0, 1 or more elements. This is particularly useful to \n",
    "* Structure your data\n",
    "* Easily access it\n",
    "\n",
    "For example you might want to have\n",
    "* An ordered list of all the assignments of this course\n",
    "* An unordered collection without replicas (a set) of the students of this course \n",
    "* A mapping from the name of a student to the email of that student."
   ]
  },
  {
   "cell_type": "markdown",
   "metadata": {},
   "source": [
    "# Sequence types"
   ]
  },
  {
   "cell_type": "markdown",
   "metadata": {},
   "source": [
    "There are [3 basic sequence types in Python](https://docs.python.org/3/library/stdtypes.html#sequence-types-list-tuple-range)\n",
    "* __Lists__\n",
    "* __Tuples__\n",
    "* __Range__"
   ]
  },
  {
   "cell_type": "markdown",
   "metadata": {},
   "source": [
    "## Strings"
   ]
  },
  {
   "cell_type": "markdown",
   "metadata": {},
   "source": [
    "In addition, [we have already seen](https://htmlpreview.github.io/?https://github.com/andrea-vandin/IntroToPython20192020/blob/master/jupyter/jupyterNotebooks/02DataTypesAndOperations.html) that that strings can be used also as a sequence."
   ]
  },
  {
   "cell_type": "code",
   "execution_count": 62,
   "metadata": {},
   "outputs": [
    {
     "name": "stdout",
     "output_type": "stream",
     "text": [
      "b\n",
      "d\n",
      "cd\n",
      "ab\n"
     ]
    }
   ],
   "source": [
    "s=\"abcd\"\n",
    "print(s[1])\n",
    "print(s[-1])\n",
    "print(s[2:])\n",
    "print(s[:2])"
   ]
  },
  {
   "cell_type": "markdown",
   "metadata": {},
   "source": [
    "A string is an _immutable sequence_\n",
    "* <span style=\"color:red\"> `s[1] = 'B'` __WE CAN'T MODIFY ENTRIES OF A STRING!__</span>"
   ]
  },
  {
   "cell_type": "code",
   "execution_count": null,
   "metadata": {},
   "outputs": [],
   "source": [
    "# If you decomment the line below you will get a runtime error\n",
    "# s[1] = 'B'"
   ]
  },
  {
   "cell_type": "markdown",
   "metadata": {},
   "source": [
    "## Lists and Tuples"
   ]
  },
  {
   "cell_type": "markdown",
   "metadata": {},
   "source": [
    "### Lists as strings"
   ]
  },
  {
   "cell_type": "markdown",
   "metadata": {},
   "source": [
    "Intuitively, a list is like a string, but you can store in it data of any type, even mixing them\n",
    "\n",
    ">You create a list by writing a comma-separated list of values in square brackets However you will typically deal with lists containing elements of same type"
   ]
  },
  {
   "cell_type": "code",
   "execution_count": 103,
   "metadata": {},
   "outputs": [
    {
     "name": "stdout",
     "output_type": "stream",
     "text": [
      "<class 'list'>\n",
      "[12, 'apples', 12.0, 'pears', True]\n"
     ]
    }
   ],
   "source": [
    "lst = [12, 'apples', 12.0, 'pears', True]\n",
    "print(type(lst))\n",
    "print(lst)"
   ]
  },
  {
   "cell_type": "markdown",
   "metadata": {},
   "source": [
    "From previous class, you already know how to access certain elements or part of the list:"
   ]
  },
  {
   "cell_type": "code",
   "execution_count": 97,
   "metadata": {},
   "outputs": [
    {
     "name": "stdout",
     "output_type": "stream",
     "text": [
      "4\n",
      "15\n",
      "0\n",
      "[12, 15]\n",
      "[1, 0]\n"
     ]
    }
   ],
   "source": [
    "print(len(lst))\n",
    "print(lst[1])\n",
    "print(lst[-1])\n",
    "print(lst[:2])\n",
    "print(lst[2:])"
   ]
  },
  {
   "cell_type": "code",
   "execution_count": 114,
   "metadata": {},
   "outputs": [
    {
     "name": "stdout",
     "output_type": "stream",
     "text": [
      "[1, 2, 3, 4]\n",
      "1\n",
      "4\n"
     ]
    }
   ],
   "source": [
    "lst0 = [1,2,3,4]\n",
    "print(lst0)\n",
    "print(min(lst0))\n",
    "print(max(lst0))"
   ]
  },
  {
   "cell_type": "markdown",
   "metadata": {},
   "source": [
    "Similarly to strings, we can concatenate lists..."
   ]
  },
  {
   "cell_type": "code",
   "execution_count": 91,
   "metadata": {},
   "outputs": [
    {
     "name": "stdout",
     "output_type": "stream",
     "text": [
      "[12, 15, 1, 0, 1, 2, 3, 'four']\n"
     ]
    }
   ],
   "source": [
    "lst2 = [1,2,3,\"four\"]\n",
    "lst3 = lst + lst2\n",
    "print(lst3)"
   ]
  },
  {
   "cell_type": "code",
   "execution_count": 120,
   "metadata": {},
   "outputs": [
    {
     "name": "stdout",
     "output_type": "stream",
     "text": [
      "lst       [12, 15, 1, 0, 1.0]\n",
      "lst_twice [12, 15, 1, 0, 1.0, 12, 15, 1, 0, 1.0]\n"
     ]
    }
   ],
   "source": [
    "print('lst      ',lst)\n",
    "lst_twice = lst * 2\n",
    "print('lst_twice',lst_twice)"
   ]
  },
  {
   "cell_type": "markdown",
   "metadata": {},
   "source": [
    "Lists containing elements of same type can be compared\n",
    "* The comparison is done in lexicographical order"
   ]
  },
  {
   "cell_type": "code",
   "execution_count": 122,
   "metadata": {},
   "outputs": [
    {
     "name": "stdout",
     "output_type": "stream",
     "text": [
      "True\n"
     ]
    }
   ],
   "source": [
    "lst4=[1,2,3,3]\n",
    "print(lst4<lst0)"
   ]
  },
  {
   "cell_type": "markdown",
   "metadata": {},
   "source": [
    "### Lists features beyond strings"
   ]
  },
  {
   "cell_type": "markdown",
   "metadata": {},
   "source": [
    "However, now we can also \n",
    "* update entries of a list\n",
    "* create use a list as an element of another list"
   ]
  },
  {
   "cell_type": "code",
   "execution_count": 75,
   "metadata": {},
   "outputs": [
    {
     "name": "stdout",
     "output_type": "stream",
     "text": [
      "[11, 4.3, 1.25, 'pears', True]\n"
     ]
    }
   ],
   "source": [
    "lst[0]=11\n",
    "lst[1]=4.3\n",
    "print(lst)"
   ]
  },
  {
   "cell_type": "code",
   "execution_count": 80,
   "metadata": {},
   "outputs": [
    {
     "name": "stdout",
     "output_type": "stream",
     "text": [
      "[[11, 4.3, 1.25, 'pears', True], [1, 2, 3, 'four'], [11, 4.3, 1.25, 'pears', True, 1, 2, 3, 'four']]\n"
     ]
    }
   ],
   "source": [
    "lst4 = [lst, lst2, lst3]\n",
    "print(lst4)"
   ]
  },
  {
   "cell_type": "markdown",
   "metadata": {},
   "source": [
    "How can I access the first element of the second list in `lst4`?"
   ]
  },
  {
   "cell_type": "code",
   "execution_count": 81,
   "metadata": {},
   "outputs": [
    {
     "name": "stdout",
     "output_type": "stream",
     "text": [
      "1\n",
      "1\n"
     ]
    }
   ],
   "source": [
    "secondlist = lst4[1]\n",
    "firstelement = secondlist[0]\n",
    "print(firstelement)\n",
    "# or ...\n",
    "firstelement = lst4[1][0]\n",
    "print(firstelement)"
   ]
  },
  {
   "cell_type": "markdown",
   "metadata": {},
   "source": [
    "Lists can have any level of nesting in other lists, and can be mixed with other types"
   ]
  },
  {
   "cell_type": "code",
   "execution_count": 85,
   "metadata": {},
   "outputs": [
    {
     "name": "stdout",
     "output_type": "stream",
     "text": [
      "[[[11, 4.3, 1.25, 'pears', True], [1, 2, 3, 'four'], [11, 4.3, 1.25, 'pears', True, 1, 2, 3, 'four']], [1, 2], 1, 'ciao', True]\n",
      "1\n"
     ]
    }
   ],
   "source": [
    "lst5 = [lst4 , [1,2], 1, \"ciao\", True ]\n",
    "print(lst5)\n",
    "#Print the same as 'firstelement' from above\n",
    "print(lst5[0][1][0])"
   ]
  },
  {
   "cell_type": "markdown",
   "metadata": {},
   "source": [
    "### Interesting operations and methods in lists"
   ]
  },
  {
   "cell_type": "code",
   "execution_count": 126,
   "metadata": {},
   "outputs": [
    {
     "name": "stdout",
     "output_type": "stream",
     "text": [
      "Does 1 appear in lst? True\n",
      "Does 1 not appear in lst? False\n",
      "Does 2 appear in lst? False\n",
      "Does the string '1' appear in lst? False\n",
      "Number 1 appears 2 times in lst\n",
      "Number 1 appears first in index 2 in lst\n"
     ]
    }
   ],
   "source": [
    "lst = [12, 15, 1, 0,1.0]\n",
    "print('Does 1 appear in lst?',1 in lst)\n",
    "print('Does 1 not appear in lst?',1 not in lst)\n",
    "print('Does 2 appear in lst?',2 in lst)\n",
    "print('Does the string \\'1\\' appear in lst?','1' in lst)"
   ]
  },
  {
   "cell_type": "code",
   "execution_count": 138,
   "metadata": {},
   "outputs": [
    {
     "data": {
      "text/plain": [
       "['__add__',\n",
       " '__class__',\n",
       " '__contains__',\n",
       " '__delattr__',\n",
       " '__delitem__',\n",
       " '__dir__',\n",
       " '__doc__',\n",
       " '__eq__',\n",
       " '__format__',\n",
       " '__ge__',\n",
       " '__getattribute__',\n",
       " '__getitem__',\n",
       " '__gt__',\n",
       " '__hash__',\n",
       " '__iadd__',\n",
       " '__imul__',\n",
       " '__init__',\n",
       " '__init_subclass__',\n",
       " '__iter__',\n",
       " '__le__',\n",
       " '__len__',\n",
       " '__lt__',\n",
       " '__mul__',\n",
       " '__ne__',\n",
       " '__new__',\n",
       " '__reduce__',\n",
       " '__reduce_ex__',\n",
       " '__repr__',\n",
       " '__reversed__',\n",
       " '__rmul__',\n",
       " '__setattr__',\n",
       " '__setitem__',\n",
       " '__sizeof__',\n",
       " '__str__',\n",
       " '__subclasshook__',\n",
       " 'append',\n",
       " 'clear',\n",
       " 'copy',\n",
       " 'count',\n",
       " 'extend',\n",
       " 'index',\n",
       " 'insert',\n",
       " 'pop',\n",
       " 'remove',\n",
       " 'reverse',\n",
       " 'sort']"
      ]
     },
     "execution_count": 138,
     "metadata": {},
     "output_type": "execute_result"
    }
   ],
   "source": [
    "dir(lst)"
   ]
  },
  {
   "cell_type": "code",
   "execution_count": 139,
   "metadata": {},
   "outputs": [
    {
     "name": "stdout",
     "output_type": "stream",
     "text": [
      "Help on built-in function insert:\n",
      "\n",
      "insert(index, object, /) method of builtins.list instance\n",
      "    Insert object before index.\n",
      "\n"
     ]
    }
   ],
   "source": [
    "help(lst.insert)"
   ]
  },
  {
   "cell_type": "markdown",
   "metadata": {},
   "source": [
    "Some interesting methods:\n",
    "* append: adds an object at the end of the list\n",
    "* pop: removes the last element from the list\n",
    "* insert: adds an object in a given position\n",
    "* copy: creates a copy of the list\n",
    "* remove: removes a given object from the list\n",
    "* count: counts the number of occurrences of an object\n",
    "* index: gives the position of the first occurrenc of an object\n",
    "* reverse: reverses the elements from last to first\n",
    "* sort: sorts the list"
   ]
  },
  {
   "cell_type": "code",
   "execution_count": 154,
   "metadata": {},
   "outputs": [
    {
     "name": "stdout",
     "output_type": "stream",
     "text": [
      "[12, 15, 1, 0, 1.0]\n",
      "Append\n",
      "[12, 15, 1, 0, 1.0, 100]\n",
      "Pop\n",
      "[12, 15, 1, 0, 1.0]\n",
      "Insert\n",
      "[100, 12, 15, 1, 0, 1.0]\n",
      "Remove\n",
      "[12, 15, 1, 0, 1.0]\n",
      "Number 1 appears 2 times in lst\n",
      "Number 1 appears first in index 2 in lst\n",
      "Reverse\n",
      "[1.0, 0, 1, 15, 12]\n",
      "Sort\n",
      "[0, 1.0, 1, 12, 15]\n"
     ]
    }
   ],
   "source": [
    "lst = [12, 15, 1, 0,1.0]\n",
    "print(lst)\n",
    "\n",
    "lst.append(100)\n",
    "print('Append')\n",
    "print(lst)\n",
    "\n",
    "lst.pop()\n",
    "print('Pop')\n",
    "print(lst)\n",
    "\n",
    "lst.insert(0,100)\n",
    "print('Insert')\n",
    "print(lst)\n",
    "\n",
    "lst.remove(100)\n",
    "print('Remove')\n",
    "print(lst)\n",
    "\n",
    "print('Number 1 appears',lst.count(1),'times in lst')\n",
    "print('Number 1 appears first in index',lst.index(1),'in lst')\n",
    "\n",
    "lst.reverse()\n",
    "print('Reverse')\n",
    "print(lst)\n",
    "\n",
    "lst.sort()\n",
    "print('Sort')\n",
    "print(lst)"
   ]
  },
  {
   "cell_type": "markdown",
   "metadata": {},
   "source": [
    "### Tuples: an __immutable__ version of lists"
   ]
  },
  {
   "cell_type": "markdown",
   "metadata": {},
   "source": [
    "Tuples are another sequence type. \n",
    "* They are essentially lists whose we cannot modify\n",
    "* The are created using rounded parenthesis rather than squared ones"
   ]
  },
  {
   "cell_type": "code",
   "execution_count": 152,
   "metadata": {},
   "outputs": [
    {
     "name": "stdout",
     "output_type": "stream",
     "text": [
      "<class 'tuple'>\n",
      "(1, 2, 4, 10, 20)\n",
      "5\n",
      "2\n",
      "20\n",
      "(1, 2)\n",
      "(4, 10, 20)\n"
     ]
    }
   ],
   "source": [
    "tpl = (1,2,4,10,20)\n",
    "print(type(tpl))\n",
    "print(tpl)\n",
    "\n",
    "print(len(tpl))\n",
    "print(tpl[1])\n",
    "print(tpl[-1])\n",
    "print(tpl[:2])\n",
    "print(tpl[2:])"
   ]
  },
  {
   "cell_type": "markdown",
   "metadata": {},
   "source": [
    "> `tpl[1] = 10` <span style=\"color:red\"> __NOT GOOD!__</span>"
   ]
  },
  {
   "cell_type": "markdown",
   "metadata": {},
   "source": [
    "Why are tuples useful?\n",
    "* Sometimes it is convenient to have the guarantee that data cannot change."
   ]
  },
  {
   "cell_type": "markdown",
   "metadata": {},
   "source": [
    "## Sequences and Memory"
   ]
  },
  {
   "cell_type": "markdown",
   "metadata": {},
   "source": [
    "## A first taste of plots"
   ]
  },
  {
   "cell_type": "markdown",
   "metadata": {},
   "source": [
    "> Not all Python modules are distributed directly in the Python distribution. Some, like matplotlib that allows you to create plots, are not. The first time you run jupyter you have to install it using the following script "
   ]
  },
  {
   "cell_type": "code",
   "execution_count": 14,
   "metadata": {},
   "outputs": [
    {
     "name": "stdout",
     "output_type": "stream",
     "text": [
      "Requirement already satisfied: matplotlib in /Library/Frameworks/Python.framework/Versions/3.8/lib/python3.8/site-packages (3.2.1)\n",
      "Requirement already satisfied: kiwisolver>=1.0.1 in /Library/Frameworks/Python.framework/Versions/3.8/lib/python3.8/site-packages (from matplotlib) (1.2.0)\n",
      "Requirement already satisfied: numpy>=1.11 in /Library/Frameworks/Python.framework/Versions/3.8/lib/python3.8/site-packages (from matplotlib) (1.18.2)\n",
      "Requirement already satisfied: pyparsing!=2.0.4,!=2.1.2,!=2.1.6,>=2.0.1 in /Library/Frameworks/Python.framework/Versions/3.8/lib/python3.8/site-packages (from matplotlib) (2.4.7)\n",
      "Requirement already satisfied: python-dateutil>=2.1 in /Users/andrea/Library/Python/3.8/lib/python/site-packages (from matplotlib) (2.8.1)\n",
      "Requirement already satisfied: cycler>=0.10 in /Library/Frameworks/Python.framework/Versions/3.8/lib/python3.8/site-packages (from matplotlib) (0.10.0)\n",
      "Requirement already satisfied: six>=1.5 in /Users/andrea/Library/Python/3.8/lib/python/site-packages (from python-dateutil>=2.1->matplotlib) (1.14.0)\n"
     ]
    }
   ],
   "source": [
    "#import sys\n",
    "#!{sys.executable} -m pip install matplotlib"
   ]
  },
  {
   "cell_type": "code",
   "execution_count": 19,
   "metadata": {},
   "outputs": [],
   "source": [
    "#If you have installed matplotlib, you can import part of it.\n",
    "import matplotlib.pyplot as plt"
   ]
  },
  {
   "cell_type": "markdown",
   "metadata": {},
   "source": [
    "Maybe you never thought about, but when you plot you use two lists"
   ]
  },
  {
   "cell_type": "code",
   "execution_count": null,
   "metadata": {},
   "outputs": [],
   "source": [
    "x=[1, 2, 3, 4]\n",
    "y=[1, 2, 3, 4]"
   ]
  },
  {
   "cell_type": "code",
   "execution_count": 17,
   "metadata": {},
   "outputs": [
    {
     "data": {
      "image/png": "[encoded data removed]",
      "text/plain": [
       "<Figure size 432x288 with 1 Axes>"
      ]
     },
     "metadata": {
      "needs_background": "light"
     },
     "output_type": "display_data"
    }
   ],
   "source": [
    "#Creating a simple plot is... simple :)\n",
    "plt.plot(x,y)\n",
    "plt.show()"
   ]
  },
  {
   "cell_type": "markdown",
   "metadata": {},
   "source": [
    "The idea is the following\n",
    "1. `plt` is your plot. You can modify at please.\n",
    "2. When the plot is ready, you can draw it using `plt.show()`\n",
    "3. When you draw the plot, plt is 'cleared'"
   ]
  },
  {
   "cell_type": "code",
   "execution_count": 28,
   "metadata": {},
   "outputs": [
    {
     "data": {
      "image/png": "[encoded data removed]",
      "text/plain": [
       "<Figure size 432x288 with 1 Axes>"
      ]
     },
     "metadata": {
      "needs_background": "light"
     },
     "output_type": "display_data"
    }
   ],
   "source": [
    "plt.ylabel('My numbers')\n",
    "plt.show()"
   ]
  },
  {
   "cell_type": "code",
   "execution_count": 31,
   "metadata": {},
   "outputs": [
    {
     "data": {
      "image/png": "[encoded data removed]",
      "text/plain": [
       "<Figure size 432x288 with 1 Axes>"
      ]
     },
     "metadata": {
      "needs_background": "light"
     },
     "output_type": "display_data"
    }
   ],
   "source": [
    "plt.plot(x,y)\n",
    "plt.ylabel('My numbers')\n",
    "plt.ylabel('Time')\n",
    "plt.axis([0, 6, 0, 20])\n",
    "plt.show()"
   ]
  },
  {
   "cell_type": "code",
   "execution_count": 56,
   "metadata": {},
   "outputs": [
    {
     "data": {
      "image/png": "[encoded data removed]",
      "text/plain": [
       "<Figure size 432x288 with 1 Axes>"
      ]
     },
     "metadata": {
      "needs_background": "light"
     },
     "output_type": "display_data"
    }
   ],
   "source": [
    "y2=[5, 3, 1, 0]\n",
    "plt.plot(x,y,'r--',x,y2, 'b-')\n",
    "plt.annotate('An interesting point', xy=(2.34, 2.4), xytext=(2, 3.5),arrowprops=dict(facecolor='black', shrink=0.05))\n",
    "plt.show()"
   ]
  },
  {
   "cell_type": "markdown",
   "metadata": {
    "toc-hr-collapsed": true,
    "toc-nb-collapsed": true
   },
   "source": [
    "# Set types"
   ]
  },
  {
   "cell_type": "code",
   "execution_count": null,
   "metadata": {},
   "outputs": [],
   "source": []
  },
  {
   "cell_type": "code",
   "execution_count": null,
   "metadata": {},
   "outputs": [],
   "source": []
  },
  {
   "cell_type": "markdown",
   "metadata": {
    "toc-hr-collapsed": true,
    "toc-nb-collapsed": true
   },
   "source": [
    "# Mapping Types"
   ]
  },
  {
   "cell_type": "code",
   "execution_count": null,
   "metadata": {},
   "outputs": [],
   "source": []
  },
  {
   "cell_type": "code",
   "execution_count": null,
   "metadata": {},
   "outputs": [],
   "source": []
  },
  {
   "cell_type": "markdown",
   "metadata": {
    "toc-hr-collapsed": true,
    "toc-nb-collapsed": true
   },
   "source": [
    "# Next class..."
   ]
  },
  {
   "cell_type": "markdown",
   "metadata": {},
   "source": [
    "We have seen how to store collections of data. <br/>\n",
    "In the next class we will Python constructs that allow us to access comptactly/easily this data"
   ]
  },
  {
   "cell_type": "code",
   "execution_count": 8,
   "metadata": {},
   "outputs": [
    {
     "name": "stdout",
     "output_type": "stream",
     "text": [
      "The day 0 is Mon\n",
      "Il giorno 0 e' Lun\n",
      "\n",
      "The day 1 is Tue\n",
      "Il giorno 1 e' Mar\n",
      "\n",
      "The day 2 is Wed\n",
      "Il giorno 2 e' Mer\n",
      "\n",
      "The day 3 is Thu\n",
      "Il giorno 3 e' Gio\n",
      "\n",
      "The day 4 is Fri\n",
      "Il giorno 4 e' Ven\n",
      "\n"
     ]
    }
   ],
   "source": [
    "weekdays = [\"Mon\", \"Tue\", \"Wed\", \"Thu\", \"Fri\"]\n",
    "translations = {\"Mon\" : \"Lun\", \"Tue\" : \"Mar\", \"Wed\" : \"Mer\", \"Thu\" : \"Gio\", \"Fri\" : \"Ven\"}\n",
    "for i in range(5) :\n",
    "    print(\"The day\",i,\"is\",weekdays[i])\n",
    "    print(\"Il giorno\",i,\"e'\",translations[weekdays[i]])\n",
    "    print(\"\")"
   ]
  }
 ],
 "metadata": {
  "kernelspec": {
   "display_name": "env_intro2python1920",
   "language": "python",
   "name": "env_intro2python1920"
  },
  "language_info": {
   "codemirror_mode": {
    "name": "ipython",
    "version": 3
   },
   "file_extension": ".py",
   "mimetype": "text/x-python",
   "name": "python",
   "nbconvert_exporter": "python",
   "pygments_lexer": "ipython3",
   "version": "3.8.2"
  }
 },
 "nbformat": 4,
 "nbformat_minor": 4
}
