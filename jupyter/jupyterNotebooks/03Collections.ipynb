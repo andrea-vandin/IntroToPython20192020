{
 "cells": [
  {
   "cell_type": "markdown",
   "metadata": {},
   "source": [
    "<font size=\"+4\">Collections</font>"
   ]
  },
  {
   "cell_type": "markdown",
   "metadata": {},
   "source": [
    "This is a notebook used as 'slides' for the class 3 on __collections__"
   ]
  },
  {
   "cell_type": "markdown",
   "metadata": {},
   "source": [
    "---"
   ]
  },
  {
   "cell_type": "markdown",
   "metadata": {},
   "source": [
    "# Intro: sequences, sets, dictionaries"
   ]
  },
  {
   "cell_type": "markdown",
   "metadata": {},
   "source": [
    "A collection is a data type able to store 0, 1 or more elements. This is particularly useful to \n",
    "* Structure your data\n",
    "* Easily access elements in collections of data of _same type_\n",
    "\n",
    "For example you might want to have:\n",
    "\n",
    "| Type       | Description              |\n",
    "|:----------:|-----------------------------|\n",
    "| __Sequence types__ | An ordered list of all the assignments of this course               |\n",
    "| __Set types__ | An unordered collection without replicas (a set) of the students of this course |\n",
    "| __Map/Dictionary types__ | A mapping from the name of a student to the email of that student            |\n",
    "\n",
    "> Note: in jupyter you can create tables. [There are also online table generators](https://www.tablesgenerator.com/markdown_tables)"
   ]
  },
  {
   "cell_type": "markdown",
   "metadata": {},
   "source": [
    "# Sequence types"
   ]
  },
  {
   "cell_type": "markdown",
   "metadata": {},
   "source": [
    "There are [3 basic sequence types in Python](https://docs.python.org/3/library/stdtypes.html#sequence-types-list-tuple-range)\n",
    "* String\n",
    "* __List__\n",
    "* __Tuple__\n",
    "* __Range__"
   ]
  },
  {
   "cell_type": "markdown",
   "metadata": {},
   "source": [
    "## Strings"
   ]
  },
  {
   "cell_type": "markdown",
   "metadata": {},
   "source": [
    "[We have already seen](https://htmlpreview.github.io/?https://github.com/andrea-vandin/IntroToPython20192020/blob/master/jupyter/jupyterNotebooks/02DataTypesAndOperations.html) that a string can be used also as a sequence of characters."
   ]
  },
  {
   "cell_type": "code",
   "execution_count": 1,
   "metadata": {},
   "outputs": [
    {
     "name": "stdout",
     "output_type": "stream",
     "text": [
      "b\n",
      "d\n",
      "cd\n",
      "ab\n",
      "cd\n",
      "abcdefg\n",
      "a\n",
      "d\n"
     ]
    }
   ],
   "source": [
    "s=\"abcd\"\n",
    "print(s[1])\n",
    "print(s[-1])\n",
    "print(s[2:])\n",
    "print(s[:2])\n",
    "print(s[2:4])\n",
    "print(s + \"efg\")\n",
    "print(min(s))\n",
    "print(max(s))"
   ]
  },
  {
   "cell_type": "markdown",
   "metadata": {},
   "source": [
    "A string is a _special_ sequence\n",
    "\n",
    "* A string is __immutable__\n",
    "> <span style=\"color:red\"> `s[1] = 'B'` __WE CAN'T MODIFY ENTRIES OF A STRING!__</span>\n",
    "* The only elements admitted in a string are characters"
   ]
  },
  {
   "cell_type": "code",
   "execution_count": 2,
   "metadata": {},
   "outputs": [],
   "source": [
    "# If you decomment the line below you will get a runtime error\n",
    "# s[1] = 'B'"
   ]
  },
  {
   "cell_type": "markdown",
   "metadata": {},
   "source": [
    "## Lists, Tuples, and Ranges"
   ]
  },
  {
   "cell_type": "markdown",
   "metadata": {},
   "source": [
    "### Lists"
   ]
  },
  {
   "cell_type": "markdown",
   "metadata": {},
   "source": [
    "Intuitively, a list is like a string, but you can store in it data of any type, even of mixed types\n",
    "* But you will typically put elements of same type in a list\n",
    "* Functionalities related to comparsions work only on lists with elements of same type\n",
    "  * E.g. min/max/sort ...\n",
    "\n",
    "You create a list by writing a comma-separated list of values in square brackets "
   ]
  },
  {
   "cell_type": "code",
   "execution_count": 3,
   "metadata": {},
   "outputs": [
    {
     "name": "stdout",
     "output_type": "stream",
     "text": [
      "<class 'list'>\n",
      "[12, 'apples', 12.0, 'pears', True]\n"
     ]
    }
   ],
   "source": [
    "lst = [12, 'apples', 12.0, 'pears', True]\n",
    "print(type(lst))\n",
    "print(lst)"
   ]
  },
  {
   "cell_type": "markdown",
   "metadata": {},
   "source": [
    "You can access the elements of a list similarly to how you access characters of a string:"
   ]
  },
  {
   "cell_type": "code",
   "execution_count": 4,
   "metadata": {},
   "outputs": [
    {
     "name": "stdout",
     "output_type": "stream",
     "text": [
      "[12, 'apples', 12.0, 'pears', True]\n",
      "5\n",
      "apples\n",
      "True\n",
      "pears\n",
      "[12, 'apples']\n",
      "[12.0, 'pears', True]\n"
     ]
    }
   ],
   "source": [
    "print(lst)\n",
    "print(len(lst))\n",
    "print(lst[1])\n",
    "print(lst[-1])\n",
    "print(lst[-2])\n",
    "print(lst[:2])\n",
    "print(lst[2:])"
   ]
  },
  {
   "cell_type": "code",
   "execution_count": 5,
   "metadata": {},
   "outputs": [
    {
     "name": "stdout",
     "output_type": "stream",
     "text": [
      "[1, 2, 3, 4]\n",
      "1\n",
      "4\n"
     ]
    }
   ],
   "source": [
    "lst0 = [1,2,3,4]\n",
    "print(lst0)\n",
    "print(min(lst0))\n",
    "print(max(lst0))"
   ]
  },
  {
   "cell_type": "markdown",
   "metadata": {},
   "source": [
    "Similarly to strings, we can concatenate lists..."
   ]
  },
  {
   "cell_type": "code",
   "execution_count": 6,
   "metadata": {},
   "outputs": [
    {
     "name": "stdout",
     "output_type": "stream",
     "text": [
      "[12, 'apples', 12.0, 'pears', True, 1, 2, 3, 'four']\n"
     ]
    }
   ],
   "source": [
    "lst2 = [1,2,3,\"four\"]\n",
    "lst3 = lst + lst2\n",
    "print(lst3)"
   ]
  },
  {
   "cell_type": "code",
   "execution_count": 7,
   "metadata": {},
   "outputs": [
    {
     "name": "stdout",
     "output_type": "stream",
     "text": [
      "[0, 0, 0, 0, 0, 0, 0, 0, 0, 0]\n"
     ]
    }
   ],
   "source": [
    "tenzeros = [0] * 10\n",
    "print(tenzeros)"
   ]
  },
  {
   "cell_type": "markdown",
   "metadata": {},
   "source": [
    "Pay attention when you use __*__ on lists containing complex data types."
   ]
  },
  {
   "cell_type": "code",
   "execution_count": 8,
   "metadata": {},
   "outputs": [
    {
     "name": "stdout",
     "output_type": "stream",
     "text": [
      "[[], [], []]\n"
     ]
    }
   ],
   "source": [
    "lists = [[]] * 3\n",
    "print(lists)"
   ]
  },
  {
   "cell_type": "code",
   "execution_count": 9,
   "metadata": {},
   "outputs": [
    {
     "name": "stdout",
     "output_type": "stream",
     "text": [
      "[[3], [3], [3]]\n"
     ]
    }
   ],
   "source": [
    "lists[0].append(3)\n",
    "print(lists)"
   ]
  },
  {
   "cell_type": "markdown",
   "metadata": {},
   "source": [
    "Unexpected behavior: \n",
    "* The same empty list is copied 3 times.\n",
    "* Changing the list pointed in one entry changes the same list pointed by the other entries\n",
    "\n",
    "This is a __shallow copy__ of the empty lists. \n",
    "If you want different instances of you can use:"
   ]
  },
  {
   "cell_type": "code",
   "execution_count": 10,
   "metadata": {},
   "outputs": [
    {
     "name": "stdout",
     "output_type": "stream",
     "text": [
      "[[3], [], []]\n"
     ]
    }
   ],
   "source": [
    "lists = [[] for i in range(3)]\n",
    "lists[0].append(3)\n",
    "print(lists)"
   ]
  },
  {
   "cell_type": "markdown",
   "metadata": {},
   "source": [
    "Lists containing elements of __same type__ can be compared\n",
    "* The comparison is done in lexicographical order"
   ]
  },
  {
   "cell_type": "code",
   "execution_count": 11,
   "metadata": {},
   "outputs": [
    {
     "name": "stdout",
     "output_type": "stream",
     "text": [
      "[1, 2, 3, 3] < [1, 2, 3, 4]\n",
      "True\n"
     ]
    }
   ],
   "source": [
    "lst4=[1,2,3,3]\n",
    "print(lst4,'<',lst0)\n",
    "print(lst4<lst0)"
   ]
  },
  {
   "cell_type": "markdown",
   "metadata": {},
   "source": [
    "### Lists features beyond strings"
   ]
  },
  {
   "cell_type": "markdown",
   "metadata": {},
   "source": [
    "However, now we can also \n",
    "* update entries of a list\n",
    "* create use a list as an element of another list\n",
    "  * have you ever heard about matrices?"
   ]
  },
  {
   "cell_type": "markdown",
   "metadata": {},
   "source": [
    "| 0 | 1 | 2 |\n",
    "|:-:|:-:|:-:|\n",
    "| 3 | 4 | 5 |"
   ]
  },
  {
   "cell_type": "code",
   "execution_count": 12,
   "metadata": {},
   "outputs": [
    {
     "name": "stdout",
     "output_type": "stream",
     "text": [
      "First row [0, 1, 2]\n",
      "Second row [3, 4, 5]\n",
      "First element of first row 0\n",
      "Third element of second row 5\n"
     ]
    }
   ],
   "source": [
    "m=[[0,1,2],[3,4,5]]\n",
    "print('First row',m[0])\n",
    "print('Second row',m[1])\n",
    "print('First element of first row',m[0][0])\n",
    "print('Third element of second row',m[1][2])"
   ]
  },
  {
   "cell_type": "code",
   "execution_count": 13,
   "metadata": {},
   "outputs": [
    {
     "name": "stdout",
     "output_type": "stream",
     "text": [
      "[12, 'apples', 12.0, 'pears', True]\n",
      "[11, 4.3, 12.0, 'pears', True]\n"
     ]
    }
   ],
   "source": [
    "print(lst)\n",
    "lst[0]=11\n",
    "lst[1]=4.3\n",
    "print(lst)"
   ]
  },
  {
   "cell_type": "code",
   "execution_count": 14,
   "metadata": {},
   "outputs": [
    {
     "name": "stdout",
     "output_type": "stream",
     "text": [
      "[[11, 4.3, 12.0, 'pears', True], [1, 2, 3, 'four'], [12, 'apples', 12.0, 'pears', True, 1, 2, 3, 'four']]\n"
     ]
    }
   ],
   "source": [
    "lst4 = [lst, lst2, lst3]\n",
    "print(lst4)"
   ]
  },
  {
   "cell_type": "markdown",
   "metadata": {},
   "source": [
    "How can I access the first element of the second list in `lst4`?"
   ]
  },
  {
   "cell_type": "code",
   "execution_count": 15,
   "metadata": {},
   "outputs": [
    {
     "name": "stdout",
     "output_type": "stream",
     "text": [
      "1\n",
      "1\n"
     ]
    }
   ],
   "source": [
    "secondlist = lst4[1]\n",
    "firstelement = secondlist[0]\n",
    "print(firstelement)\n",
    "# or ...\n",
    "print(lst4[1][0])"
   ]
  },
  {
   "cell_type": "markdown",
   "metadata": {},
   "source": [
    "Lists can have any level of nesting in other lists, and can be mixed with other types"
   ]
  },
  {
   "cell_type": "code",
   "execution_count": 16,
   "metadata": {},
   "outputs": [
    {
     "name": "stdout",
     "output_type": "stream",
     "text": [
      "[[[11, 4.3, 12.0, 'pears', True], [1, 2, 3, 'four'], [12, 'apples', 12.0, 'pears', True, 1, 2, 3, 'four']], [1, 2], 1, 'ciao', True]\n",
      "1\n"
     ]
    }
   ],
   "source": [
    "lst5 = [lst4 , [1,2], 1, \"ciao\", True ]\n",
    "print(lst5)\n",
    "#Print the same as 'firstelement' from above\n",
    "print(lst5[0][1][0])"
   ]
  },
  {
   "cell_type": "markdown",
   "metadata": {},
   "source": [
    "### How to copy a list?"
   ]
  },
  {
   "cell_type": "code",
   "execution_count": 17,
   "metadata": {},
   "outputs": [
    {
     "name": "stdout",
     "output_type": "stream",
     "text": [
      "[1, 2, 3, 4]\n",
      "[100, 2, 3, 4]\n"
     ]
    }
   ],
   "source": [
    "l1=[1,2,3,4]\n",
    "l2=l1\n",
    "print(l2)\n",
    "l1[0]=100\n",
    "print(l2)"
   ]
  },
  {
   "cell_type": "markdown",
   "metadata": {},
   "source": [
    "In the example before l1 and l2 point to the same list. This is a _shallow copy_\n",
    "\n",
    "How to really copy a list into a new one?\n",
    "* Use list constructor\n",
    "* Use list comprehension"
   ]
  },
  {
   "cell_type": "code",
   "execution_count": 18,
   "metadata": {},
   "outputs": [
    {
     "name": "stdout",
     "output_type": "stream",
     "text": [
      "[100, 2, 3, 4]\n"
     ]
    }
   ],
   "source": [
    "#Using the constructor of lists\n",
    "l2=list(l1)\n",
    "l1[0]=200\n",
    "print(l2)"
   ]
  },
  {
   "cell_type": "code",
   "execution_count": 19,
   "metadata": {},
   "outputs": [
    {
     "name": "stdout",
     "output_type": "stream",
     "text": [
      "[200, 2, 3, 4]\n"
     ]
    }
   ],
   "source": [
    "#Using list comprehensions\n",
    "l2=[x for x in l1]\n",
    "l1[0]=300\n",
    "print(l2)"
   ]
  },
  {
   "cell_type": "markdown",
   "metadata": {},
   "source": [
    "Anything that can be _iterated_ can be used in the examples above to construct lists\n",
    "* Any sequence and more iterable objects we will discuss later in the course"
   ]
  },
  {
   "cell_type": "code",
   "execution_count": 20,
   "metadata": {},
   "outputs": [
    {
     "name": "stdout",
     "output_type": "stream",
     "text": [
      "['c', 'i', 'a', 'o']\n",
      "['h', 'e', 'l', 'l', 'o']\n"
     ]
    }
   ],
   "source": [
    "l2 = list(\"ciao\")\n",
    "print(l2)\n",
    "l2 = [x for x in \"hello\"]\n",
    "print(l2)"
   ]
  },
  {
   "cell_type": "markdown",
   "metadata": {},
   "source": [
    "### Interesting operations and methods in lists"
   ]
  },
  {
   "cell_type": "code",
   "execution_count": 21,
   "metadata": {},
   "outputs": [
    {
     "name": "stdout",
     "output_type": "stream",
     "text": [
      "Does 1 appear in lst? True\n",
      "Does 1 not appear in lst? False\n",
      "Does 2 appear in lst? False\n",
      "Does the string '1' appear in lst? False\n"
     ]
    }
   ],
   "source": [
    "lst = [12, 15, 1, 0,1.0]\n",
    "print('Does 1 appear in lst?',1 in lst)\n",
    "print('Does 1 not appear in lst?',1 not in lst)\n",
    "print('Does 2 appear in lst?',2 in lst)\n",
    "print('Does the string \\'1\\' appear in lst?','1' in lst)"
   ]
  },
  {
   "cell_type": "markdown",
   "metadata": {},
   "source": [
    "Note that in the latter `'1' in lst` we check if the string `'1'` belong to `lst`. \n",
    "* Thus is not the case, because `lst` contains only nnumeric types"
   ]
  },
  {
   "cell_type": "code",
   "execution_count": 22,
   "metadata": {},
   "outputs": [
    {
     "data": {
      "text/plain": [
       "['__add__',\n",
       " '__class__',\n",
       " '__contains__',\n",
       " '__delattr__',\n",
       " '__delitem__',\n",
       " '__dir__',\n",
       " '__doc__',\n",
       " '__eq__',\n",
       " '__format__',\n",
       " '__ge__',\n",
       " '__getattribute__',\n",
       " '__getitem__',\n",
       " '__gt__',\n",
       " '__hash__',\n",
       " '__iadd__',\n",
       " '__imul__',\n",
       " '__init__',\n",
       " '__init_subclass__',\n",
       " '__iter__',\n",
       " '__le__',\n",
       " '__len__',\n",
       " '__lt__',\n",
       " '__mul__',\n",
       " '__ne__',\n",
       " '__new__',\n",
       " '__reduce__',\n",
       " '__reduce_ex__',\n",
       " '__repr__',\n",
       " '__reversed__',\n",
       " '__rmul__',\n",
       " '__setattr__',\n",
       " '__setitem__',\n",
       " '__sizeof__',\n",
       " '__str__',\n",
       " '__subclasshook__',\n",
       " 'append',\n",
       " 'clear',\n",
       " 'copy',\n",
       " 'count',\n",
       " 'extend',\n",
       " 'index',\n",
       " 'insert',\n",
       " 'pop',\n",
       " 'remove',\n",
       " 'reverse',\n",
       " 'sort']"
      ]
     },
     "execution_count": 22,
     "metadata": {},
     "output_type": "execute_result"
    }
   ],
   "source": [
    "dir(lst)"
   ]
  },
  {
   "cell_type": "code",
   "execution_count": 23,
   "metadata": {},
   "outputs": [
    {
     "name": "stdout",
     "output_type": "stream",
     "text": [
      "Help on built-in function insert:\n",
      "\n",
      "insert(index, object, /) method of builtins.list instance\n",
      "    Insert object before index.\n",
      "\n"
     ]
    }
   ],
   "source": [
    "help(lst.insert)"
   ]
  },
  {
   "cell_type": "markdown",
   "metadata": {},
   "source": [
    "Some interesting methods:\n",
    "* append: adds an object at the end of the list\n",
    "* pop: removes the last element from the list\n",
    "* insert: adds an object in a given position\n",
    "* copy: creates a copy of the list\n",
    "* remove: removes the first occurrence of a given object from the list\n",
    "* count: counts the number of occurrences of an object\n",
    "* index: gives the position of the first occurrence of an object\n",
    "* reverse: reverses the elements from last to first\n",
    "* sort: sorts the list"
   ]
  },
  {
   "cell_type": "code",
   "execution_count": 24,
   "metadata": {},
   "outputs": [
    {
     "name": "stdout",
     "output_type": "stream",
     "text": [
      "We start from:\n",
      "[12, 15, 1, 0, 1.0]\n",
      "append(100)\n",
      "[12, 15, 1, 0, 1.0, 100]\n",
      "pop\n",
      "[12, 15, 1, 0, 1.0]\n",
      "insert(0,100)\n",
      "[100, 12, 15, 1, 0, 1.0]\n",
      "insert(3,100)\n",
      "[100, 12, 15, 100, 1, 0, 1.0]\n",
      "remove(100)\n",
      "[12, 15, 100, 1, 0, 1.0]\n",
      "Number 1 appears 2 times in lst\n",
      "Number 1 appears first in index 3 in lst\n",
      "Reverse\n",
      "[1.0, 0, 1, 100, 15, 12]\n",
      "Sort\n",
      "[0, 1.0, 1, 12, 15, 100]\n"
     ]
    }
   ],
   "source": [
    "lst = [12, 15, 1, 0,1.0]\n",
    "print('We start from:')\n",
    "print(lst)\n",
    "\n",
    "lst.append(100)\n",
    "print('append(100)')\n",
    "print(lst)\n",
    "\n",
    "lst.pop()\n",
    "print('pop')\n",
    "print(lst)\n",
    "\n",
    "lst.insert(0,100)\n",
    "print('insert(0,100)')\n",
    "print(lst)\n",
    "\n",
    "lst.insert(3,100)\n",
    "print('insert(3,100)')\n",
    "print(lst)\n",
    "\n",
    "lst.remove(100)\n",
    "print('remove(100)')\n",
    "print(lst)\n",
    "\n",
    "print('Number 1 appears',lst.count(1),'times in lst')\n",
    "print('Number 1 appears first in index',lst.index(1),'in lst')\n",
    "#You can't asks for the index of an element if it does not belong to the list.\n",
    "#If you uncomment this statement you get a runtime error.\n",
    "#lst.index(2)\n",
    "\n",
    "lst.reverse()\n",
    "print('Reverse')\n",
    "print(lst)\n",
    "\n",
    "lst.sort()\n",
    "print('Sort')\n",
    "print(lst)"
   ]
  },
  {
   "cell_type": "code",
   "execution_count": 25,
   "metadata": {},
   "outputs": [
    {
     "name": "stdout",
     "output_type": "stream",
     "text": [
      "Help on built-in function index:\n",
      "\n",
      "index(value, start=0, stop=9223372036854775807, /) method of builtins.list instance\n",
      "    Return first index of value.\n",
      "    \n",
      "    Raises ValueError if the value is not present.\n",
      "\n"
     ]
    }
   ],
   "source": [
    "help(lst.index)"
   ]
  },
  {
   "cell_type": "code",
   "execution_count": 26,
   "metadata": {},
   "outputs": [
    {
     "name": "stdout",
     "output_type": "stream",
     "text": [
      "[0, 1.0, 1, 12, 15, 100, 'ciao']\n"
     ]
    }
   ],
   "source": [
    "lst2 = lst+[\"ciao\"]\n",
    "print(lst2)\n",
    "# You can't do certain operations on lists with elements of different types\n",
    "#sort(lst2) \n",
    "#min(lst2)\n",
    "#max(lst2)"
   ]
  },
  {
   "cell_type": "markdown",
   "metadata": {},
   "source": [
    "> <span style=\"color:red\"> `sort(lst2)` __OPERATIONS REGARDING COMPARISONS ARE FORBIDDEN ON MULTI-TYPE LISTs__</span>"
   ]
  },
  {
   "cell_type": "markdown",
   "metadata": {},
   "source": [
    "### Tuples: an __immutable__ version of lists"
   ]
  },
  {
   "cell_type": "markdown",
   "metadata": {},
   "source": [
    "Tuples are another sequence type. \n",
    "* They are essentially lists whose we cannot modify\n",
    "* The are created using rounded parenthesis rather than squared ones"
   ]
  },
  {
   "cell_type": "code",
   "execution_count": 27,
   "metadata": {},
   "outputs": [
    {
     "name": "stdout",
     "output_type": "stream",
     "text": [
      "<class 'tuple'>\n",
      "(1, 2, 4, 10, 20)\n",
      "(1, 2, 4, 10, 20)\n",
      "(1, 2, 4, 10, 20)\n",
      "[1, 2, 3] (1, 2, 3)\n"
     ]
    }
   ],
   "source": [
    "tpl = (1,2,4,10,20)\n",
    "print(type(tpl))\n",
    "print(tpl)\n",
    "#Parennthesis are optional\n",
    "tpl = 1,2,4,10,20\n",
    "print(tpl)\n",
    "\n",
    "tpl2 = tuple(tpl)\n",
    "print(tpl2)\n",
    "lst = [1,2,3]\n",
    "tpl3 = tuple(lst)\n",
    "print(lst,tpl3)"
   ]
  },
  {
   "cell_type": "code",
   "execution_count": 28,
   "metadata": {},
   "outputs": [
    {
     "name": "stdout",
     "output_type": "stream",
     "text": [
      "5\n",
      "2\n",
      "20\n",
      "(1, 2)\n",
      "(4, 10, 20)\n"
     ]
    }
   ],
   "source": [
    "print(len(tpl))\n",
    "print(tpl[1])\n",
    "print(tpl[-1])\n",
    "print(tpl[:2])\n",
    "print(tpl[2:])"
   ]
  },
  {
   "cell_type": "markdown",
   "metadata": {},
   "source": [
    "> `tpl[1] = 10` <span style=\"color:red\"> __NOT GOOD!__</span>"
   ]
  },
  {
   "cell_type": "markdown",
   "metadata": {},
   "source": [
    "Tuples implement the non-modifying operations shown for lists\n",
    "* in, not in, min, max, ..."
   ]
  },
  {
   "cell_type": "markdown",
   "metadata": {},
   "source": [
    "Why are tuples useful?\n",
    "* Sometimes it is convenient to have the guarantee that data cannot change.\n",
    "* They can be used as keys in dictionaries (more on this later today)\n",
    "* Lists are typically meant for collecting homogeneous types, while tuples for heterogeneous types"
   ]
  },
  {
   "cell_type": "markdown",
   "metadata": {},
   "source": [
    "### Ranges & list comprehensions"
   ]
  },
  {
   "cell_type": "markdown",
   "metadata": {},
   "source": [
    "Ranges are another form of immutable sequence\n",
    "* In the next class we will see that they are mainly used to iterate over certain instructions a given number of times"
   ]
  },
  {
   "cell_type": "code",
   "execution_count": 29,
   "metadata": {},
   "outputs": [
    {
     "name": "stdout",
     "output_type": "stream",
     "text": [
      "<class 'range'>\n",
      "range(0, 10)\n",
      "0\n",
      "1\n",
      "2\n",
      "3\n",
      "4\n",
      "5\n",
      "6\n",
      "7\n",
      "8\n",
      "9\n"
     ]
    }
   ],
   "source": [
    "s=range(10)\n",
    "print(type(s))\n",
    "print(s)\n",
    "print(s[0])\n",
    "print(s[1])\n",
    "print(s[2])\n",
    "print(s[3])\n",
    "print(s[4])\n",
    "print(s[5])\n",
    "print(s[6])\n",
    "print(s[7])\n",
    "print(s[8])\n",
    "print(s[9])"
   ]
  },
  {
   "cell_type": "code",
   "execution_count": 30,
   "metadata": {},
   "outputs": [
    {
     "name": "stdout",
     "output_type": "stream",
     "text": [
      "11\n",
      "13\n",
      "15\n",
      "17\n",
      "19\n",
      "False\n"
     ]
    }
   ],
   "source": [
    "start=11\n",
    "stop=20\n",
    "step=2\n",
    "#Creates a sequence a number start,start+step,start+step*2,... up to stop-1\n",
    "s=range(start,stop,step)\n",
    "print(s[0])\n",
    "print(s[1])\n",
    "print(s[2])\n",
    "print(s[3])\n",
    "print(s[4])\n",
    "#Number 'stop' does not belong to the collection\n",
    "print(stop in s)\n",
    "#print(s[5])"
   ]
  },
  {
   "cell_type": "markdown",
   "metadata": {},
   "source": [
    "We can use ranges to easily build lists or tuples"
   ]
  },
  {
   "cell_type": "code",
   "execution_count": 31,
   "metadata": {},
   "outputs": [
    {
     "name": "stdout",
     "output_type": "stream",
     "text": [
      "[0, 1, 2, 3, 4, 5, 6, 7, 8, 9]\n",
      "[0, 1, 2, 3, 4, 5, 6, 7, 8, 9]\n",
      "         [3, 4, 5, 6, 7]\n",
      "[0, 1, 4, 9, 16, 25, 36, 49, 64, 81]\n"
     ]
    }
   ],
   "source": [
    "t= tuple(range(10))\n",
    "l = list(range(10))\n",
    "l2 =[ x for x in range(10)]\n",
    "l3 =[ x for x in range(10) if x>2 and x< 8]\n",
    "l4 =[ x*x for x in range(10)]\n",
    "print(l)\n",
    "print(l2)\n",
    "print(\"        \",l3)\n",
    "print(l4)"
   ]
  },
  {
   "cell_type": "markdown",
   "metadata": {},
   "source": [
    "The `[x+1 for x in range(10) if x>2]` is a __list comprehension__\n",
    "* Allows you to build a list manipulatinng and filtering ranges or other sequences"
   ]
  },
  {
   "cell_type": "markdown",
   "metadata": {},
   "source": [
    "## A first taste of plots"
   ]
  },
  {
   "cell_type": "markdown",
   "metadata": {},
   "source": [
    "Not all Python modules are distributed directly in the Python distribution. Some, like __matplotlib__ that allows you to __create plots__, are not. \n",
    "\n",
    "> __The first time you run jupyter you have to install it using the following script__"
   ]
  },
  {
   "cell_type": "code",
   "execution_count": 32,
   "metadata": {},
   "outputs": [],
   "source": [
    "#import sys\n",
    "#!{sys.executable} -m pip install matplotlib"
   ]
  },
  {
   "cell_type": "code",
   "execution_count": 33,
   "metadata": {},
   "outputs": [],
   "source": [
    "#If you have installed matplotlib, you can import part of it.\n",
    "import matplotlib.pyplot as plt\n",
    "#If you want more info on this module\n",
    "#help(plt)"
   ]
  },
  {
   "cell_type": "markdown",
   "metadata": {},
   "source": [
    "Maybe you never thought about, but when you plot you use two sequences of data"
   ]
  },
  {
   "cell_type": "code",
   "execution_count": 34,
   "metadata": {},
   "outputs": [],
   "source": [
    "x=[1, 2, 3, 4]\n",
    "y=[1, 2, 3, 4]"
   ]
  },
  {
   "cell_type": "code",
   "execution_count": 35,
   "metadata": {},
   "outputs": [
    {
     "data": {
      "image/png": "[encoded data removed]",
      "text/plain": [
       "<Figure size 432x288 with 1 Axes>"
      ]
     },
     "metadata": {
      "needs_background": "light"
     },
     "output_type": "display_data"
    }
   ],
   "source": [
    "#Creating a simple plot is... simple :)\n",
    "plt.plot(x,y)\n",
    "plt.show()"
   ]
  },
  {
   "cell_type": "markdown",
   "metadata": {},
   "source": [
    "The idea is the following\n",
    "1. `plt` is your plot. You can modify at please.\n",
    "2. When the plot is ready, you can draw it using `plt.show()`\n",
    "3. When you draw the plot, plt is 'cleared'"
   ]
  },
  {
   "cell_type": "code",
   "execution_count": 36,
   "metadata": {},
   "outputs": [],
   "source": [
    "#If you want more details on the method plot\n",
    "#help(plt.plot)"
   ]
  },
  {
   "cell_type": "code",
   "execution_count": 37,
   "metadata": {},
   "outputs": [
    {
     "data": {
      "image/png": "[encoded data removed]",
      "text/plain": [
       "<Figure size 432x288 with 1 Axes>"
      ]
     },
     "metadata": {
      "needs_background": "light"
     },
     "output_type": "display_data"
    }
   ],
   "source": [
    "plt.ylabel('My numbers')\n",
    "plt.show()"
   ]
  },
  {
   "cell_type": "markdown",
   "metadata": {},
   "source": [
    "We can modify the plot, e.g."
   ]
  },
  {
   "cell_type": "code",
   "execution_count": 38,
   "metadata": {},
   "outputs": [
    {
     "data": {
      "image/png": "[encoded data removed]",
      "text/plain": [
       "<Figure size 432x288 with 1 Axes>"
      ]
     },
     "metadata": {
      "needs_background": "light"
     },
     "output_type": "display_data"
    }
   ],
   "source": [
    "plt.plot(x,y)\n",
    "plt.ylabel('My numbers')\n",
    "plt.ylabel('Time')\n",
    "plt.axis([0, 6, 0, 20])\n",
    "plt.show()"
   ]
  },
  {
   "cell_type": "markdown",
   "metadata": {},
   "source": [
    "We can\n",
    "* plot more lines, with different styles\n",
    "  * same as matlab\n",
    "* add text and graphics to the plot"
   ]
  },
  {
   "cell_type": "code",
   "execution_count": 39,
   "metadata": {},
   "outputs": [
    {
     "data": {
      "image/png": "[encoded data removed]",
      "text/plain": [
       "<Figure size 432x288 with 1 Axes>"
      ]
     },
     "metadata": {
      "needs_background": "light"
     },
     "output_type": "display_data"
    }
   ],
   "source": [
    "y2=[5, 3, 1, 0]\n",
    "plt.plot(x,y,'r--',x,y2, 'b-')\n",
    "plt.annotate('An interesting point', xy=(2.34, 2.4), xytext=(2, 3.5),arrowprops=dict(facecolor='black', shrink=0.05))\n",
    "plt.show()"
   ]
  },
  {
   "cell_type": "code",
   "execution_count": 40,
   "metadata": {},
   "outputs": [
    {
     "data": {
      "image/png": "[encoded data removed]",
      "text/plain": [
       "<Figure size 432x288 with 1 Axes>"
      ]
     },
     "metadata": {
      "needs_background": "light"
     },
     "output_type": "display_data"
    }
   ],
   "source": [
    "y2=[5, 3, 1, 0]\n",
    "y3=[5, 3, 1, 0]\n",
    "plt.plot(x,y,'r-',x,y2, 'b--',x,y3, 'g^',linewidth=2, markersize=12)\n",
    "plt.annotate('An interesting point', xy=(2.34, 2.4), xytext=(2, 3.5),arrowprops=dict(facecolor='black', shrink=0.05))\n",
    "plt.show()"
   ]
  },
  {
   "cell_type": "markdown",
   "metadata": {},
   "source": [
    "# Set types"
   ]
  },
  {
   "cell_type": "markdown",
   "metadata": {},
   "source": [
    "[Set types](https://docs.python.org/3/library/stdtypes.html#set-types-set-frozenset) are\n",
    "* **unorderded** collections of **distinct** elements\n",
    "* useful to \n",
    "  * eliminate replicas from lists, \n",
    "  * check membership to a set of elements, \n",
    "  * compute mathematical operations on sets"
   ]
  },
  {
   "cell_type": "code",
   "execution_count": 41,
   "metadata": {},
   "outputs": [
    {
     "name": "stdout",
     "output_type": "stream",
     "text": [
      "{1, 2, 3, 4, 5}\n",
      "[1, 2, 3, 4, 5]\n",
      "[1, 2, 3, 4, 5]\n",
      "{1, 2, 3, 4, 5}\n",
      "True\n"
     ]
    }
   ],
   "source": [
    "l=[1,2,3,4,1,2,5]\n",
    "s = set(l)\n",
    "print(s)\n",
    "l_without_replicas=list(s)\n",
    "l_without_replicas2=[x for x in s]\n",
    "print(l_without_replicas)\n",
    "print(l_without_replicas2)\n",
    "\n",
    "s2 = set([5,4,3,2,1])\n",
    "print(s2)\n",
    "print(s==s2)"
   ]
  },
  {
   "cell_type": "code",
   "execution_count": 42,
   "metadata": {},
   "outputs": [
    {
     "name": "stdout",
     "output_type": "stream",
     "text": [
      "True\n",
      "False\n",
      "Are s and s2 disjoint? False\n",
      "True\n",
      "{1, 2, 3, 4}\n"
     ]
    }
   ],
   "source": [
    "s={1,2,3}\n",
    "s2={2,3,4}\n",
    "print(1 in s)\n",
    "print(1 in s2)\n",
    "print('Are s and s2 disjoint?',s.isdisjoint(s2))\n",
    "print({1,2}.issubset(s))\n",
    "sunion=s.union(s2)\n",
    "print(sunion)"
   ]
  },
  {
   "cell_type": "markdown",
   "metadata": {},
   "source": [
    "For more methods of sets"
   ]
  },
  {
   "cell_type": "code",
   "execution_count": 43,
   "metadata": {},
   "outputs": [],
   "source": [
    "#dir(lst)"
   ]
  },
  {
   "cell_type": "markdown",
   "metadata": {},
   "source": [
    "You can't access elements by position:\n",
    "* There is no order in a set!"
   ]
  },
  {
   "cell_type": "code",
   "execution_count": 44,
   "metadata": {},
   "outputs": [],
   "source": [
    "#s[0] #THIS WOULD GIVE A RUNTIME ERROR!"
   ]
  },
  {
   "cell_type": "markdown",
   "metadata": {},
   "source": [
    "There exists al an immutable version of sets: `frozenset`\n",
    "* Can be used as key in dictionaries    "
   ]
  },
  {
   "cell_type": "code",
   "execution_count": 45,
   "metadata": {},
   "outputs": [
    {
     "name": "stdout",
     "output_type": "stream",
     "text": [
      "frozenset({1, 2, 3})\n"
     ]
    }
   ],
   "source": [
    "fs=frozenset([1,2,3])\n",
    "print(fs)"
   ]
  },
  {
   "cell_type": "markdown",
   "metadata": {},
   "source": [
    "# Mapping Types"
   ]
  },
  {
   "cell_type": "markdown",
   "metadata": {},
   "source": [
    "A [mapping object](https://docs.python.org/3/library/stdtypes.html#mapping-types-dict) allows to __map__ \n",
    "* elements of one type (the __key__) to\n",
    "* elemennts of another tpye (the __value__)"
   ]
  },
  {
   "cell_type": "markdown",
   "metadata": {},
   "source": [
    "Intuitively, \n",
    "* a list implicitly allows to map integers (the index) to its elements\n",
    "* a mapping type allows to explicitly define key values of desired type"
   ]
  },
  {
   "cell_type": "code",
   "execution_count": 46,
   "metadata": {},
   "outputs": [
    {
     "name": "stdout",
     "output_type": "stream",
     "text": [
      "Integer 1      is mapped to char b\n",
      "Student Andrea is mapped to mark 30\n"
     ]
    }
   ],
   "source": [
    "lst=['a','b','c']\n",
    "key=1\n",
    "print('Integer',key,'     is mapped to char',lst[key])\n",
    "\n",
    "marks={'Andrea': 30, 'Daniele':30, 'Giulio':25}\n",
    "key='Andrea'\n",
    "print('Student',key,'is mapped to mark',marks[key])"
   ]
  },
  {
   "cell_type": "markdown",
   "metadata": {},
   "source": [
    "What mapping types are we going to use?\n",
    "* **Dictionaries**"
   ]
  },
  {
   "cell_type": "code",
   "execution_count": 47,
   "metadata": {},
   "outputs": [
    {
     "data": {
      "text/plain": [
       "dict"
      ]
     },
     "execution_count": 47,
     "metadata": {},
     "output_type": "execute_result"
    }
   ],
   "source": [
    "type(marks)"
   ]
  },
  {
   "cell_type": "markdown",
   "metadata": {},
   "source": [
    "These will create the same dict"
   ]
  },
  {
   "cell_type": "code",
   "execution_count": 48,
   "metadata": {},
   "outputs": [
    {
     "name": "stdout",
     "output_type": "stream",
     "text": [
      "True\n"
     ]
    }
   ],
   "source": [
    "marks={'Andrea': 30, 'Daniele':30, 'Giulio':25}\n",
    "marks2=dict(Andrea=30,Daniele=30,Giulio=25)\n",
    "marks3=dict(zip(['Andrea','Daniele','Giulio'],[30,30,25]))\n",
    "marks4=dict([('Andrea', 30), ('Daniele', 30), ('Giulio', 25)])\n",
    "print(marks==marks2==marks3==marks4)"
   ]
  },
  {
   "cell_type": "markdown",
   "metadata": {},
   "source": [
    "Many types can be used as keys. But only those __hashable__\n",
    "* No mutable collections (list, set, dictionaries)"
   ]
  },
  {
   "cell_type": "markdown",
   "metadata": {},
   "source": [
    "Some functionalities of dictionaries"
   ]
  },
  {
   "cell_type": "code",
   "execution_count": 49,
   "metadata": {},
   "outputs": [
    {
     "name": "stdout",
     "output_type": "stream",
     "text": [
      "All keys: ['Andrea', 'Daniele', 'Giulio']\n",
      "All values: [30, 30, 25]\n",
      "Number of elements: 3\n",
      "{'Andrea': 29, 'Daniele': 30, 'Giulio': 25}\n"
     ]
    }
   ],
   "source": [
    "print('All keys:',list(marks.keys()))\n",
    "print('All values:',list(marks.values()))\n",
    "print('Number of elements:',len(marks))\n",
    "marks['Andrea']=29\n",
    "print(marks)"
   ]
  },
  {
   "cell_type": "markdown",
   "metadata": {},
   "source": [
    "# Next class..."
   ]
  },
  {
   "cell_type": "code",
   "execution_count": 50,
   "metadata": {},
   "outputs": [
    {
     "data": {
      "text/html": [
       "<video src=\"images/loops.mp4\" controls  >\n",
       "      Your browser does not support the <code>video</code> element.\n",
       "    </video>"
      ],
      "text/plain": [
       "<IPython.core.display.Video object>"
      ]
     },
     "metadata": {},
     "output_type": "display_data"
    }
   ],
   "source": [
    "from IPython.display import Video, display\n",
    "video=Video('images/loops.mp4')\n",
    "display(video)"
   ]
  },
  {
   "cell_type": "markdown",
   "metadata": {},
   "source": [
    "In the next class we will see how to instruct Python in\n",
    "* Executing certain instructions only if a given condition holds\n",
    "* Executing a given number of time certain instructins\n",
    "\n",
    "For example:\n",
    "* We have seen how to store collections of data.\n",
    "* In the next class we will see how to easily access their elements in order"
   ]
  },
  {
   "cell_type": "code",
   "execution_count": 51,
   "metadata": {},
   "outputs": [
    {
     "name": "stdout",
     "output_type": "stream",
     "text": [
      "The day 0 is Mon\n",
      "Il giorno 0 e' Lun\n",
      "\n",
      "The day 1 is Tue\n",
      "Il giorno 1 e' Mar\n",
      "\n",
      "The day 2 is Wed\n",
      "Il giorno 2 e' Mer\n",
      "\n",
      "The day 3 is Thu\n",
      "Il giorno 3 e' Gio\n",
      "\n",
      "The day 4 is Fri\n",
      "Il giorno 4 e' Ven\n",
      "\n"
     ]
    }
   ],
   "source": [
    "weekdays = [\"Mon\", \"Tue\", \"Wed\", \"Thu\", \"Fri\"]\n",
    "translations = {\"Mon\" : \"Lun\", \"Tue\" : \"Mar\", \"Wed\" : \"Mer\", \"Thu\" : \"Gio\", \"Fri\" : \"Ven\"}\n",
    "for i in range(5) :\n",
    "    print(\"The day\",i,\"is\",weekdays[i])\n",
    "    print(\"Il giorno\",i,\"e'\",translations[weekdays[i]])\n",
    "    print(\"\")"
   ]
  }
 ],
 "metadata": {
  "kernelspec": {
   "display_name": "env_intro2python1920",
   "language": "python",
   "name": "env_intro2python1920"
  },
  "language_info": {
   "codemirror_mode": {
    "name": "ipython",
    "version": 3
   },
   "file_extension": ".py",
   "mimetype": "text/x-python",
   "name": "python",
   "nbconvert_exporter": "python",
   "pygments_lexer": "ipython3",
   "version": "3.8.2"
  },
  "toc-autonumbering": true
 },
 "nbformat": 4,
 "nbformat_minor": 4
}
