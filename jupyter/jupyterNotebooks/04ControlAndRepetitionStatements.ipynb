{
 "cells": [
  {
   "cell_type": "markdown",
   "metadata": {},
   "source": [
    "<font size=\"+4\">Control and Repetition Statements</font>"
   ]
  },
  {
   "cell_type": "markdown",
   "metadata": {},
   "source": [
    "This is a notebook used as 'slides' for the class 4.\n",
    "\n",
    "---"
   ]
  },
  {
   "cell_type": "markdown",
   "metadata": {},
   "source": [
    "# Intro: we need to control at runtime the execution flow of our programs"
   ]
  },
  {
   "cell_type": "markdown",
   "metadata": {},
   "source": [
    "At the beginning of the course we made a parallel among cooking recipes and software programs.\n",
    "\n",
    "* A recipe is a list of instructions to be executed in sequence. No decisions have to be taken.\n",
    "* When programming, it is very rare to deal with problems that require only such simple processing. \n",
    "\n",
    "Most of the times we need to write programs able to take decisions:\n",
    "* Depending on the input\n",
    "* Depending on the current values of certain variables in the program\n",
    "\n",
    "\n",
    "In this class we will discuss the specific statements (aka control and repetition structures) necessary to:\n",
    "  * __IF__: Execute these statements only if a certain condition holds\n",
    "  * __LOOP__: Execute these statements several times as long a certain condition holds"
   ]
  },
  {
   "cell_type": "markdown",
   "metadata": {},
   "source": [
    "# If statements"
   ]
  },
  {
   "cell_type": "markdown",
   "metadata": {},
   "source": [
    "## Choose whether executing a block or not"
   ]
  },
  {
   "cell_type": "markdown",
   "metadata": {},
   "source": [
    "In its simplest form, an `if` statement consists of\n",
    "* A guard: a Boolean expression evaluated to either `true` or `false`\n",
    "* A body: block of statements executed only if the guards evaluates to `true`"
   ]
  },
  {
   "cell_type": "code",
   "execution_count": null,
   "metadata": {},
   "outputs": [],
   "source": [
    "x=1\n",
    "y=2\n",
    "if(x==y):\n",
    "    print('The guard was satisfied')\n",
    "print('After the if')\n",
    "\n",
    "x=1\n",
    "y=1\n",
    "if(x==y):\n",
    "    print('The guard was satisfied')\n",
    "print('After the if')"
   ]
  },
  {
   "cell_type": "markdown",
   "metadata": {},
   "source": [
    "> Pay attention to tabs/indentation! The body is defined by the indentation <br/>\n",
    "> The following prgram is equal to the first one above up to a tab, behaves differently!"
   ]
  },
  {
   "cell_type": "code",
   "execution_count": null,
   "metadata": {},
   "outputs": [],
   "source": [
    "x=1\n",
    "y=2\n",
    "if(x==y):\n",
    "    print('The guard was satisfied')\n",
    "    print('Still in the if!')"
   ]
  },
  {
   "cell_type": "markdown",
   "metadata": {},
   "source": [
    "## Choose whether executing a block or another"
   ]
  },
  {
   "cell_type": "markdown",
   "metadata": {},
   "source": [
    "What if we need to choose between executing two blocks of statements according to a condition?"
   ]
  },
  {
   "cell_type": "code",
   "execution_count": null,
   "metadata": {},
   "outputs": [],
   "source": [
    "deposit = 10\n",
    "withdraw = 6\n",
    "\n",
    "if(deposit >= withdraw):\n",
    "    deposit-=withdraw\n",
    "    print('Withdrawing',withdraw,'succeeded. ') \n",
    "    print('We are left with',deposit)\n",
    "else:\n",
    "    missing = withdraw - deposit \n",
    "    actualWithdraw = deposit\n",
    "    deposit = 0\n",
    "    print('Withdrawing',withdraw,'failed. ')\n",
    "    print('We withdrew',actualWithdraw,'remaining with',deposit)"
   ]
  },
  {
   "cell_type": "code",
   "execution_count": null,
   "metadata": {},
   "outputs": [],
   "source": [
    "if(deposit >= withdraw):\n",
    "    deposit-=withdraw\n",
    "    print('Withdrawing',withdraw,'succeeded. ') \n",
    "    print('We are left with',deposit)\n",
    "else:\n",
    "    missing = withdraw - deposit \n",
    "    actualWithdraw = deposit\n",
    "    deposit = 0\n",
    "    print('Withdrawing',withdraw,'failed. ')\n",
    "    print('We withdrew',actualWithdraw,'remaining with',deposit)"
   ]
  },
  {
   "cell_type": "markdown",
   "metadata": {},
   "source": [
    "## Choose wich block to execute among several one"
   ]
  },
  {
   "cell_type": "code",
   "execution_count": 7,
   "metadata": {},
   "outputs": [
    {
     "name": "stdout",
     "output_type": "stream",
     "text": [
      "The cappuccino law.\n"
     ]
    },
    {
     "name": "stdin",
     "output_type": "stream",
     "text": [
      "What time is it (0-24)? 3\n"
     ]
    },
    {
     "name": "stdout",
     "output_type": "stream",
     "text": [
      "No. But some people have hot milk to help their sleep.\n"
     ]
    }
   ],
   "source": [
    "print('The cappuccino law.')\n",
    "hour=int(input('What time is it (0-24)?'))\n",
    "if(hour < 4):\n",
    "    print('No. But some people have hot milk to help their sleep.')\n",
    "elif(hour <= 11):\n",
    "    print('You can safely have a cappuccino.')\n",
    "elif(hour <= 15):\n",
    "    print('No way!')\n",
    "elif(hour <= 20):\n",
    "    print('No. But you can have hot milk if you are sick.')\n",
    "else:\n",
    "    print(\"No. But some people have hot milk before going to sleep.\")"
   ]
  },
  {
   "cell_type": "markdown",
   "metadata": {},
   "source": [
    "# Loops"
   ]
  },
  {
   "cell_type": "markdown",
   "metadata": {},
   "source": [
    "## While loops"
   ]
  },
  {
   "cell_type": "markdown",
   "metadata": {},
   "source": [
    "## For loops"
   ]
  },
  {
   "cell_type": "code",
   "execution_count": null,
   "metadata": {},
   "outputs": [],
   "source": [
    "\"5\" is \"5\""
   ]
  },
  {
   "cell_type": "code",
   "execution_count": null,
   "metadata": {},
   "outputs": [],
   "source": [
    "[5] == [5]"
   ]
  },
  {
   "cell_type": "code",
   "execution_count": null,
   "metadata": {},
   "outputs": [],
   "source": []
  },
  {
   "cell_type": "code",
   "execution_count": null,
   "metadata": {},
   "outputs": [],
   "source": []
  },
  {
   "cell_type": "markdown",
   "metadata": {},
   "source": [
    "# Next class..."
   ]
  },
  {
   "cell_type": "code",
   "execution_count": null,
   "metadata": {},
   "outputs": [],
   "source": []
  }
 ],
 "metadata": {
  "kernelspec": {
   "display_name": "env_intro2python1920",
   "language": "python",
   "name": "env_intro2python1920"
  },
  "language_info": {
   "codemirror_mode": {
    "name": "ipython",
    "version": 3
   },
   "file_extension": ".py",
   "mimetype": "text/x-python",
   "name": "python",
   "nbconvert_exporter": "python",
   "pygments_lexer": "ipython3",
   "version": "3.8.2"
  }
 },
 "nbformat": 4,
 "nbformat_minor": 4
}
