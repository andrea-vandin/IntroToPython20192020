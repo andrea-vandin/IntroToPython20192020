{
 "cells": [
  {
   "cell_type": "markdown",
   "metadata": {},
   "source": [
    "<font size=\"+4\">Functions</font><br/>\n",
    "<font size=\"+2\"> how to get more readable and manutenable code by avoiding spaghetti code</font>"
   ]
  },
  {
   "cell_type": "markdown",
   "metadata": {},
   "source": [
    "This is a notebook used as 'slides' for the class 5.\n",
    "\n",
    "---"
   ]
  },
  {
   "cell_type": "markdown",
   "metadata": {},
   "source": [
    "# Intro: copy-pasting is not a good idea when programming"
   ]
  },
  {
   "cell_type": "markdown",
   "metadata": {},
   "source": [
    "Let's sum up the first `n` naturals:"
   ]
  },
  {
   "cell_type": "code",
   "execution_count": 62,
   "metadata": {},
   "outputs": [
    {
     "name": "stdin",
     "output_type": "stream",
     "text": [
      " 3\n"
     ]
    },
    {
     "name": "stdout",
     "output_type": "stream",
     "text": [
      "The sum of the first 3 naturals [1, 2, 3] is 6\n"
     ]
    }
   ],
   "source": [
    "sum1 = 0\n",
    "\n",
    "n = int(input())\n",
    "rng = range(1,n+1)\n",
    "for i in rng:\n",
    "    sum1+=i\n",
    "print('The sum of the first',n,'naturals',list(rng),'is',sum1)    "
   ]
  },
  {
   "cell_type": "markdown",
   "metadata": {},
   "source": [
    "## Classic copy-paste errors"
   ]
  },
  {
   "cell_type": "markdown",
   "metadata": {},
   "source": [
    " "
   ]
  },
  {
   "cell_type": "markdown",
   "metadata": {},
   "source": [
    "What if we want to do this several times in different parts of a program?\n",
    "* A bugged version due to __classic copy-paste errors__"
   ]
  },
  {
   "cell_type": "code",
   "execution_count": 46,
   "metadata": {},
   "outputs": [
    {
     "name": "stdin",
     "output_type": "stream",
     "text": [
      " 3\n"
     ]
    },
    {
     "name": "stdout",
     "output_type": "stream",
     "text": [
      "The sum of the first 3 naturals [1, 2, 3] is 6\n"
     ]
    },
    {
     "name": "stdin",
     "output_type": "stream",
     "text": [
      " 4\n"
     ]
    },
    {
     "name": "stdout",
     "output_type": "stream",
     "text": [
      "The sum of the first 3 naturals [1, 2, 3] is 12\n"
     ]
    }
   ],
   "source": [
    "#BUGGED VERSION DUE TO CLASSIC COPY-PASTE ERRORS\n",
    "sum1 = 0\n",
    "\n",
    "n = int(input())\n",
    "rng = range(1,n+1)\n",
    "for i in rng:\n",
    "    sum1+=i\n",
    "print('The sum of the first',n,'naturals',list(rng),'is',sum1)\n",
    "\n",
    "\n",
    "# Do something else ... \n",
    "# Do something else ...\n",
    "# Do something else ...\n",
    "# Do something else ...\n",
    "# Do something else ... \n",
    "# Do something else ...\n",
    "# Do something else ...\n",
    "# Do something else ...\n",
    "# Do something else ... \n",
    "# Do something else ...\n",
    "# Do something else ...\n",
    "# Do something else ...\n",
    "# Do something else ... \n",
    "# Do something else ...\n",
    "# Do something else ...\n",
    "# Do something else ...\n",
    "\n",
    "\n",
    "n2 = int(input())\n",
    "rng = range(1,n+1)\n",
    "for i in rng:\n",
    "    sum1+=i\n",
    "print('The sum of the first',n,'naturals',list(rng),'is',sum1)"
   ]
  },
  {
   "cell_type": "code",
   "execution_count": 41,
   "metadata": {},
   "outputs": [
    {
     "name": "stdin",
     "output_type": "stream",
     "text": [
      " 3\n"
     ]
    },
    {
     "name": "stdout",
     "output_type": "stream",
     "text": [
      "The sum of the first 3 naturals [1, 2, 3] is 6\n"
     ]
    },
    {
     "name": "stdin",
     "output_type": "stream",
     "text": [
      " 3\n"
     ]
    },
    {
     "name": "stdout",
     "output_type": "stream",
     "text": [
      "The sum of the first 3 naturals [1, 2, 3] is 6\n"
     ]
    }
   ],
   "source": [
    "#FIXED VERSION\n",
    "sum1 = 0\n",
    "\n",
    "n = int(input())\n",
    "rng = range(1,n+1)\n",
    "for i in rng:\n",
    "    sum1+=i\n",
    "print('The sum of the first',n,'naturals',list(rng),'is',sum1)\n",
    "\n",
    "\n",
    "# Do something else ... \n",
    "# Do something else ...\n",
    "# Do something else ...\n",
    "# Do something else ...\n",
    "# Do something else ... \n",
    "# Do something else ...\n",
    "# Do something else ...\n",
    "# Do something else ...\n",
    "# Do something else ... \n",
    "# Do something else ...\n",
    "# Do something else ...\n",
    "# Do something else ...\n",
    "# Do something else ... \n",
    "# Do something else ...\n",
    "# Do something else ...\n",
    "# Do something else ...\n",
    "\n",
    "\n",
    "sum1=0\n",
    "n2 = int(input())\n",
    "rng = range(1,n2+1)\n",
    "for i in rng:\n",
    "    sum1+=i\n",
    "print('The sum of the first',n2,'naturals',list(rng),'is',sum1)"
   ]
  },
  {
   "cell_type": "markdown",
   "metadata": {},
   "source": [
    "Imagine doing this in a file with thousands of lines of codes and several copies of the same code\n",
    "* It would be very error-prone!\n",
    "\n",
    "Luckily, we can wrap this computation __in a function__\n",
    "* __Defined__ (written) once\n",
    "* __Invoked__ (used, called) many times"
   ]
  },
  {
   "cell_type": "code",
   "execution_count": 65,
   "metadata": {},
   "outputs": [
    {
     "name": "stdout",
     "output_type": "stream",
     "text": [
      "The sum of the first 3 naturals [1, 2, 3] is 6\n",
      "The sum of the first 4 naturals [1, 2, 3, 4] is 10\n",
      "Twice the sum of the first 4 naturals: 20\n"
     ]
    }
   ],
   "source": [
    "def sumNaturals(n):\n",
    "    sum1 = 0\n",
    "    rng = range(1,n+1)\n",
    "    for i in rng:\n",
    "        sum1+=i\n",
    "    print('The sum of the first',n,'naturals',list(rng),'is',sum1)\n",
    "    return sum1\n",
    "\n",
    "sum3 = sumNaturals(3)\n",
    "sum4 = sumNaturals(4)\n",
    "print('Twice the sum of the first 4 naturals:',sum4*2)"
   ]
  },
  {
   "cell_type": "code",
   "execution_count": 67,
   "metadata": {},
   "outputs": [
    {
     "name": "stdin",
     "output_type": "stream",
     "text": [
      " 3\n"
     ]
    },
    {
     "name": "stdout",
     "output_type": "stream",
     "text": [
      "The sum of the first 3 naturals [1, 2, 3] is 6\n"
     ]
    },
    {
     "name": "stdin",
     "output_type": "stream",
     "text": [
      " 4\n"
     ]
    },
    {
     "name": "stdout",
     "output_type": "stream",
     "text": [
      "The sum of the first 4 naturals [1, 2, 3, 4] is 10\n"
     ]
    },
    {
     "data": {
      "text/plain": [
       "10"
      ]
     },
     "execution_count": 67,
     "metadata": {},
     "output_type": "execute_result"
    }
   ],
   "source": [
    "sumNaturals(int(input()))\n",
    "sumNaturals(int(input()))"
   ]
  },
  {
   "cell_type": "markdown",
   "metadata": {},
   "source": [
    "## Functions increase Modularity and Manutenability"
   ]
  },
  {
   "cell_type": "markdown",
   "metadata": {},
   "source": [
    "What if we want to update a function?\n",
    "* Maybe you know that \n",
    "<br/>\n",
    "   $\\sum\\limits_{i=1}^{n} i = \\frac{(n\\cdot n+1)}{2}$\n",
    "* Above we can just __modify the function once__, and all the rest of the code will become aware of the change   "
   ]
  },
  {
   "cell_type": "code",
   "execution_count": 55,
   "metadata": {},
   "outputs": [],
   "source": [
    "def sumNaturals(n):\n",
    "    sum1 = int(n*(n+1)/2)\n",
    "    print('The sum of the first',n,'naturals is',sum1)\n",
    "    return sum1"
   ]
  },
  {
   "cell_type": "markdown",
   "metadata": {},
   "source": [
    "# What is a function?"
   ]
  },
  {
   "cell_type": "markdown",
   "metadata": {},
   "source": [
    "[Functions](https://www.w3schools.com/python/python_functions.asp) (in certain cases called procedures) are a key notion in programming\n",
    "* Enable the **procedural programming style** mentioned in the first class\n",
    "  * Break down a big problem into smaller ones\n",
    "  * Decouple the program logic (what the program does) from the data (what the program manipulates)\n",
    "  * Therefore increase readability and manutenability of programs\n",
    "\n",
    "A function consists of a set of statements (or instructions) that \n",
    "* have been collected together \n",
    "* have been given a name\n",
    "\n",
    "A bit like in mathematics (e.g. $x1= max(x2,x3)$), functions\n",
    "* might have arguments ($x_2,x_3$, the __arguments__ or __parameters__)\n",
    "* execute a number of computations based on the arguments (the statements composing its __body__)\n",
    "* might return a computed value (the __return value__)\n",
    "\n",
    "But in programming languages:\n",
    "* Functions might have side effects \n",
    "  * e.g., can depend on the value of variables defined elsewhere"
   ]
  },
  {
   "cell_type": "code",
   "execution_count": 139,
   "metadata": {},
   "outputs": [
    {
     "data": {
      "image/png": "[encoded data removed]",
      "text/plain": [
       "<IPython.core.display.Image object>"
      ]
     },
     "metadata": {
      "image/png": {
       "width": 900
      }
     },
     "output_type": "display_data"
    }
   ],
   "source": [
    "from IPython.display import Image, display\n",
    "img=Image(filename='images/function.png',width=900)\n",
    "display(img)"
   ]
  },
  {
   "cell_type": "markdown",
   "metadata": {},
   "source": [
    "__Aspects to consider when writing a function__\n",
    "* Each function should have a single purpose\n",
    "  * Can you describe what it does with a single verb?\n",
    "  * If a function has more purposes, consider to split it \n",
    "* Use self-comment names for arguments\n",
    "* Do not change mutable arguments (lists, dictionaries, sets) \n",
    "  * Unless clearly defined, e.g. in the function name\n",
    "\n"
   ]
  },
  {
   "cell_type": "markdown",
   "metadata": {},
   "source": [
    "# Global variables vs Local variables"
   ]
  },
  {
   "cell_type": "code",
   "execution_count": 100,
   "metadata": {},
   "outputs": [
    {
     "name": "stdout",
     "output_type": "stream",
     "text": [
      "The sum of the first 5 naturals [1, 2, 3, 4, 5] is 15\n",
      "Result contains 15\n",
      "sum1   contains 6\n"
     ]
    }
   ],
   "source": [
    "def sumNaturals(n):\n",
    "    sum1 = 0\n",
    "    rng = range(1,n+1)\n",
    "    lv = 3\n",
    "    for i in rng:\n",
    "        sum1+=i\n",
    "    print('The sum of the first',n,'naturals',list(rng),'is',sum1)\n",
    "    return sum1\n",
    "\n",
    "result = sumNaturals(5)\n",
    "print('Result contains',result)\n",
    "print('sum1   contains',sum1)\n",
    "#print(lv) #This gives an error"
   ]
  },
  {
   "cell_type": "markdown",
   "metadata": {},
   "source": [
    "I just told you that local variables are local to each function invocation\n",
    "* Therefore we get an error (_NameError: name 'lv' is not defined_)\n",
    "* But then why can I print `sum1`?\n",
    "* And why do I get a number different than `15`?\n",
    "\n",
    "> Because I am printing another variable named `sum1`, a __global variable__, that we have declared above\n",
    "* A __global variable__ does not belong to any function and exists across all code.\n",
    "  * But cannot be used in functions that define a new variable with same nae\n",
    "* Everytime we invoke `sumNaturals` we create a new local variable `sum1` which \n",
    "  * _shadows_ the global variable `sum1`\n",
    "  * ceases to exists when the function terminates, making the global variables accessible again."
   ]
  },
  {
   "cell_type": "markdown",
   "metadata": {},
   "source": [
    "# Input an output of a function"
   ]
  },
  {
   "cell_type": "markdown",
   "metadata": {},
   "source": [
    "## Pass by reference"
   ]
  },
  {
   "cell_type": "markdown",
   "metadata": {},
   "source": [
    "In Python, arguments are passed __by reference__\n",
    "* For example, if you pass a list lst as argument:\n",
    "  * The function will not use a copy of lst, but lst itself (possibly through a variable with different name\n",
    "  * Any modification to the list will be reflected in the code that called the function\n",
    "\n",
    "Intuitively, you pass a _reference to the list_\n",
    "\n",
    "> Passing an empty list or a list with 1000 elements has the same cost! <br/>\n",
    "> You pass just the reference to the 'beggining of the list"
   ]
  },
  {
   "cell_type": "code",
   "execution_count": 25,
   "metadata": {},
   "outputs": [
    {
     "name": "stdout",
     "output_type": "stream",
     "text": [
      "['first', 'second', 'end']\n"
     ]
    }
   ],
   "source": [
    "def append_to_list(lst):\n",
    "    lst.append('end')\n",
    "\n",
    "mylst = [\"first\",\"second\"]\n",
    "append_to_list(mylst)\n",
    "print(mylst)"
   ]
  },
  {
   "cell_type": "markdown",
   "metadata": {},
   "source": [
    "What happens if you execute the code below?\n",
    "* More importantly: why?"
   ]
  },
  {
   "cell_type": "code",
   "execution_count": 109,
   "metadata": {},
   "outputs": [
    {
     "name": "stdout",
     "output_type": "stream",
     "text": [
      "Inside  the function [1, 2]\n",
      "Outside the function ['first', 'second', 'end']\n"
     ]
    }
   ],
   "source": [
    "def append_to_list(lst):\n",
    "    lst.append('end')\n",
    "    lst = [1,2]\n",
    "    print('Inside  the function',lst)\n",
    "\n",
    "mylst = [\"first\",\"second\"]\n",
    "append_to_list(mylst)\n",
    "print('Outside the function',mylst)"
   ]
  },
  {
   "cell_type": "markdown",
   "metadata": {},
   "source": [
    "## We can specify arguments by name"
   ]
  },
  {
   "cell_type": "code",
   "execution_count": 113,
   "metadata": {},
   "outputs": [
    {
     "name": "stdout",
     "output_type": "stream",
     "text": [
      "Andrea Diego\n",
      "Andrea Diego\n",
      "Andrea Diego\n"
     ]
    }
   ],
   "source": [
    "def print_names(name1,name2):\n",
    "    print(name1,name2)\n",
    "\n",
    "print_names('Andrea','Diego')\n",
    "print_names(name1='Andrea',name2='Diego')\n",
    "print_names(name2='Diego',name1='Andrea')"
   ]
  },
  {
   "cell_type": "markdown",
   "metadata": {},
   "source": [
    "## We can make arguments optional providing default values"
   ]
  },
  {
   "cell_type": "code",
   "execution_count": 116,
   "metadata": {},
   "outputs": [
    {
     "name": "stdout",
     "output_type": "stream",
     "text": [
      "Andrea NoName\n",
      "Andrea NoName\n",
      "Andrea NoName2\n",
      "Andrea Diego\n",
      "Andrea Diego\n"
     ]
    }
   ],
   "source": [
    "def print_names(name1,name2):\n",
    "    print(name1,name2)\n",
    "print_names('Andrea','Diego')\n",
    "#print_names('Andrea') #Error!"
   ]
  },
  {
   "cell_type": "code",
   "execution_count": 117,
   "metadata": {},
   "outputs": [
    {
     "name": "stdout",
     "output_type": "stream",
     "text": [
      "Andrea NoName\n",
      "Andrea NoName\n"
     ]
    }
   ],
   "source": [
    "def print_names(name1,name2=\"NoName\"):\n",
    "    print(name1,name2)\n",
    "print_names('Andrea','Diego')\n",
    "print_names('Andrea') #That's fine now!"
   ]
  },
  {
   "cell_type": "code",
   "execution_count": 118,
   "metadata": {},
   "outputs": [
    {
     "name": "stdout",
     "output_type": "stream",
     "text": [
      "Andrea NoName2\n",
      "NoName1 Diego\n"
     ]
    }
   ],
   "source": [
    "def print_names(name1=\"NoName1\",name2=\"NoName2\"):\n",
    "    print(name1,name2)\n",
    "print_names('Andrea')\n",
    "print_names(name2='Diego')"
   ]
  },
  {
   "cell_type": "markdown",
   "metadata": {},
   "source": [
    "## We can specify that we expect _some_ parameters"
   ]
  },
  {
   "cell_type": "code",
   "execution_count": 122,
   "metadata": {},
   "outputs": [
    {
     "name": "stdout",
     "output_type": "stream",
     "text": [
      "Andrea\n",
      "\n",
      "Andrea\n",
      "Diego\n",
      "\n",
      "Andrea\n",
      "Diego\n",
      "Matteo\n",
      "\n"
     ]
    }
   ],
   "source": [
    "def print_names(*names):\n",
    "    for name in names:\n",
    "        print(name)\n",
    "    print()\n",
    "print_names('Andrea')\n",
    "print_names('Andrea','Diego')\n",
    "print_names('Andrea','Diego','Matteo')"
   ]
  },
  {
   "cell_type": "markdown",
   "metadata": {},
   "source": [
    "## We can specify dictionaries of parameters"
   ]
  },
  {
   "cell_type": "code",
   "execution_count": 131,
   "metadata": {},
   "outputs": [
    {
     "name": "stdout",
     "output_type": "stream",
     "text": [
      "key is n1 value is Andrea\n",
      "\n",
      "key is n1 value is Andrea\n",
      "key is n2 value is Diego\n",
      "\n",
      "key is n1 value is Andrea\n",
      "key is n2 value is Diego\n",
      "key is n3 value is Matteo\n",
      "\n"
     ]
    }
   ],
   "source": [
    "def print_names(**params):\n",
    "    for key, value in params.items():\n",
    "        print('key is',key,'value is',value)\n",
    "    print()\n",
    "print_names(n1 = 'Andrea')\n",
    "print_names(n1 = 'Andrea' , n2 = 'Diego')\n",
    "print_names(n1='Andrea',n2='Diego',n3='Matteo')"
   ]
  },
  {
   "cell_type": "markdown",
   "metadata": {},
   "source": [
    "## The return value of a function"
   ]
  },
  {
   "cell_type": "markdown",
   "metadata": {},
   "source": [
    "A function terminates when \n",
    "* The last statement in its body is executed\n",
    "* A `return` statement is executed"
   ]
  },
  {
   "cell_type": "code",
   "execution_count": 83,
   "metadata": {},
   "outputs": [
    {
     "name": "stdout",
     "output_type": "stream",
     "text": [
      "This will be printed\n"
     ]
    }
   ],
   "source": [
    "def testReturn():\n",
    "    print('This will be printed')\n",
    "    return\n",
    "    print('This will NOT be printed')\n",
    "\n",
    "testReturn()    "
   ]
  },
  {
   "cell_type": "markdown",
   "metadata": {},
   "source": [
    "# Everything is an object, even functions"
   ]
  },
  {
   "cell_type": "markdown",
   "metadata": {},
   "source": [
    "As we discussed in the first class, everything is an object in Python, even functions.\n",
    "\n",
    "We can\n",
    "* assign functions to variables\n",
    "* we can pass functions as arguments to other functions"
   ]
  },
  {
   "cell_type": "code",
   "execution_count": 135,
   "metadata": {},
   "outputs": [
    {
     "name": "stdout",
     "output_type": "stream",
     "text": [
      "3\n",
      "2\n"
     ]
    }
   ],
   "source": [
    "def my_sum(n1,n2):\n",
    "    return n1+n2\n",
    "def my_mul(n1,n2):\n",
    "    return n1*n2\n",
    "\n",
    "expr = my_sum\n",
    "print(expr(1,2))\n",
    "expr = my_mul\n",
    "print(expr(1,2))"
   ]
  },
  {
   "cell_type": "code",
   "execution_count": 140,
   "metadata": {},
   "outputs": [
    {
     "name": "stdout",
     "output_type": "stream",
     "text": [
      "3\n",
      "2\n"
     ]
    }
   ],
   "source": [
    "def expression_evaluator(f,n1,n2):\n",
    "    print(f(n1,n2))\n",
    "\n",
    "expression_evaluator(my_sum,1,2)\n",
    "expression_evaluator(my_mul,1,2)"
   ]
  },
  {
   "cell_type": "markdown",
   "metadata": {},
   "source": [
    "# Functions and libraries"
   ]
  },
  {
   "cell_type": "markdown",
   "metadata": {},
   "source": [
    "Functions can be seen as \n",
    "* an _interface_ or a _contract_"
   ]
  },
  {
   "cell_type": "code",
   "execution_count": null,
   "metadata": {},
   "outputs": [],
   "source": [
    "#Function name and arguments\n",
    "def sumNaturals(n):\n",
    "    #Actual computation\n",
    "    sum1 = 0\n",
    "    rng = range(1,n+1)\n",
    "    for i in rng:\n",
    "        sum1+=i \n",
    "    #return computed value\n",
    "    return sum1\n",
    "\n",
    "#Function name and arguments\n",
    "def sumNaturals(n):\n",
    "    #Actual computation\n",
    "    sum1 = int(n*(n+1)/2)\n",
    "    #return computed value\n",
    "    return sum1"
   ]
  },
  {
   "cell_type": "markdown",
   "metadata": {},
   "source": [
    "We saw two versions of `sumNaturals`. Both\n",
    "1. take an argument `n`\n",
    "2. compute the sum of the first `n` naturals\n",
    "3. return the computed sum\n",
    "\n",
    "What changes in the two implementations is how step 2 is implemented\n",
    "* But developers do not necessarily need to know what precisely happen in poit 2. \n",
    "  * They only need to know what to feed in, and what to expect in output\n",
    "* This allow to abstract te complexity of a program into several smaller problems, possibly solved by others\n",
    "\n",
    "A __library__ like _matplotlib_ or _csv_ is nothing more than a collection of\n",
    "* types\n",
    "* functions\n",
    "defined in other files"
   ]
  },
  {
   "cell_type": "markdown",
   "metadata": {},
   "source": [
    "# Lambda functions, map, filter and reduce"
   ]
  },
  {
   "cell_type": "markdown",
   "metadata": {},
   "source": [
    "## Lambda functions"
   ]
  },
  {
   "cell_type": "markdown",
   "metadata": {},
   "source": [
    "__[Lambda functions](https://www.w3schools.com/python/python_lambda.asp)__: in some cases, it might be convenient to define on-the-fly anonymous simple functions\n",
    "* __anonymous__: the function has no name\n",
    "* __simple__: the function can consist only of one expression\n",
    "\n",
    "This lambda function computes the sum of two numbers: `lambda a, b: a+b`"
   ]
  },
  {
   "cell_type": "code",
   "execution_count": 173,
   "metadata": {},
   "outputs": [
    {
     "data": {
      "text/plain": [
       "3"
      ]
     },
     "execution_count": 173,
     "metadata": {},
     "output_type": "execute_result"
    }
   ],
   "source": [
    "my_lfun = lambda a, b: a+b\n",
    "my_lfun(1,2)"
   ]
  },
  {
   "cell_type": "code",
   "execution_count": 177,
   "metadata": {},
   "outputs": [
    {
     "name": "stdout",
     "output_type": "stream",
     "text": [
      "3\n"
     ]
    }
   ],
   "source": [
    "def expression_evaluator(f,n1,n2):\n",
    "    print(f(n1,n2))\n",
    "\n",
    "expression_evaluator(lambda a, b: a+b, 1,2)"
   ]
  },
  {
   "cell_type": "markdown",
   "metadata": {},
   "source": [
    "A lambda functions is really nothing more than a simple function without name\n",
    "* Why should we use them then?\n",
    "\n",
    "There are places where `def` cannot be used:\n",
    "* In arguments of functions or in return statements\n",
    "\n",
    "Lambda expression can help you avoiding annoying workarounds"
   ]
  },
  {
   "cell_type": "code",
   "execution_count": 190,
   "metadata": {},
   "outputs": [
    {
     "name": "stdout",
     "output_type": "stream",
     "text": [
      "22\n",
      "33\n"
     ]
    }
   ],
   "source": [
    "def myfunc(n):\n",
    "  return lambda a : a * n\n",
    "\n",
    "mydoubler = myfunc(2)\n",
    "mytripler = myfunc(3)\n",
    "\n",
    "print(mydoubler(11))\n",
    "print(mytripler(11))"
   ]
  },
  {
   "cell_type": "raw",
   "metadata": {},
   "source": [
    "This cannot be done\n",
    "def myfunc(n):\n",
    "  return def aaa(a) :\n",
    "            a * n            "
   ]
  },
  {
   "cell_type": "markdown",
   "metadata": {},
   "source": [
    "However you can do"
   ]
  },
  {
   "cell_type": "code",
   "execution_count": 191,
   "metadata": {},
   "outputs": [
    {
     "name": "stdout",
     "output_type": "stream",
     "text": [
      "22\n",
      "33\n"
     ]
    }
   ],
   "source": [
    "def myfunc(n):\n",
    "    def myinnerfunc(a) : \n",
    "        return a * n\n",
    "    return myinnerfunc\n",
    "\n",
    "mydoubler2 = myfunc(2)\n",
    "mytripler2 = myfunc(3)\n",
    "\n",
    "print(mydoubler(11))\n",
    "print(mytripler(11))"
   ]
  },
  {
   "cell_type": "markdown",
   "metadata": {},
   "source": [
    "Lambda functions are typically used in conjunction with\n",
    "* __map__: applies a given function to each element in a sequence\n",
    "* __filter__: applies a Boolean function to each element in a sequence, and returns only those evaluated to `true`\n",
    "* __reduce__: applies cumulatively a given function to the elements in a sequence, and return the cumulative result\n",
    "\n",
    "Notes:\n",
    "* In the examples below we will define functions. But any Python function can be used, even built-in ones.\n",
    "* In the examples below, the functions take 1 parameter. If the considered functions have 2, 3, or more parameters, you just have to provide 2, 3, or more lists.\n",
    "\n",
    "Some examples have been taken from the two following links, where interesting discussions on lambdas, map, filter, and reduce can be found:\n",
    "* [Source 1](https://book.pythontips.com/en/latest/map_filter.html#map-filter-and-reduce)\n",
    "* [Source 2](https://www.learnpython.org/en/Map,_Filter,_Reduce)"
   ]
  },
  {
   "cell_type": "markdown",
   "metadata": {},
   "source": [
    "## Map"
   ]
  },
  {
   "cell_type": "code",
   "execution_count": 23,
   "metadata": {},
   "outputs": [
    {
     "name": "stdout",
     "output_type": "stream",
     "text": [
      "[1, 4, 9, 16, 25]\n",
      "[1, 4, 9, 16, 25]\n",
      "[1, 4, 9, 16, 25]\n"
     ]
    }
   ],
   "source": [
    "items = [1, 2, 3, 4, 5]\n",
    "\n",
    "#Using a loop\n",
    "squared = []\n",
    "for i in items:\n",
    "    squared.append(i**2)\n",
    "print(squared)\n",
    "    \n",
    "#Can be expressed more compactly using maps\n",
    "squared = list(map(lambda x: x**2, items))\n",
    "print(squared)\n",
    "\n",
    "#The same you can do with list comprehensions\n",
    "squared = [x**2 for x in items]\n",
    "print(squared)"
   ]
  },
  {
   "cell_type": "markdown",
   "metadata": {},
   "source": [
    "You can even have list of functions rather than a list of values"
   ]
  },
  {
   "cell_type": "code",
   "execution_count": 20,
   "metadata": {},
   "outputs": [
    {
     "name": "stdout",
     "output_type": "stream",
     "text": [
      "[0, 0]\n",
      "[1, 2]\n",
      "[4, 4]\n",
      "[9, 6]\n",
      "[16, 8]\n"
     ]
    }
   ],
   "source": [
    "def multiply(x):\n",
    "    return (x*x)\n",
    "def add(x):\n",
    "    return (x+x)\n",
    "\n",
    "funcs = [multiply, add]\n",
    "for i in range(5):\n",
    "    value = list(map(lambda x: x(i), funcs))\n",
    "    print(value)"
   ]
  },
  {
   "cell_type": "markdown",
   "metadata": {},
   "source": [
    "Another example using a built-in function"
   ]
  },
  {
   "cell_type": "code",
   "execution_count": 22,
   "metadata": {},
   "outputs": [
    {
     "name": "stdout",
     "output_type": "stream",
     "text": [
      "['Andrea', 'Daniele']\n"
     ]
    }
   ],
   "source": [
    "names = ['andrea','daniele']\n",
    "capitalized_names = list(map(str.capitalize,names))\n",
    "print(capitalized_names)"
   ]
  },
  {
   "cell_type": "markdown",
   "metadata": {},
   "source": [
    "## Filter"
   ]
  },
  {
   "cell_type": "code",
   "execution_count": 3,
   "metadata": {},
   "outputs": [
    {
     "name": "stdout",
     "output_type": "stream",
     "text": [
      "[1, 3, 5]\n",
      "[1, 3, 5]\n",
      "[1, 3, 5]\n"
     ]
    }
   ],
   "source": [
    "items = [1, 2, 3, 4, 5]\n",
    "\n",
    "#Using a loop\n",
    "odd_numbers = []\n",
    "for i in items:\n",
    "    if i%2 !=0 :\n",
    "        odd_numbers.append(i)\n",
    "print(odd_numbers)\n",
    "\n",
    "#Can be expressed more compactly using maps\n",
    "odd_numbers = list(filter(lambda x: x%2 != 0, items))\n",
    "print(odd_numbers)\n",
    "\n",
    "#The same you can do with list comprehensions\n",
    "odd_numbers = [x for x in items if x%2 !=0]\n",
    "print(odd_numbers)"
   ]
  },
  {
   "cell_type": "markdown",
   "metadata": {},
   "source": [
    "## Reduce"
   ]
  },
  {
   "cell_type": "code",
   "execution_count": 17,
   "metadata": {},
   "outputs": [
    {
     "name": "stdout",
     "output_type": "stream",
     "text": [
      "15\n",
      "15\n"
     ]
    }
   ],
   "source": [
    "items = [1, 2, 3, 4, 5]\n",
    "\n",
    "#Using a loop\n",
    "tot_sum = 0\n",
    "for i in items:\n",
    "    tot_sum += i\n",
    "print(tot_sum)\n",
    "\n",
    "#Can be expressed more compactly using maps\n",
    "from functools import reduce\n",
    "tot_sum = reduce(lambda x, y: x + y, items)\n",
    "print(tot_sum)\n",
    "\n",
    "#The result is not a list but a number, therefore you can't use comprehensions"
   ]
  },
  {
   "cell_type": "markdown",
   "metadata": {},
   "source": [
    "Reduce works as follow:\n",
    "* Initially, `x` and `y` are the first and second element of the list, resp\n",
    "* In every following step, `x` is cumulative value computed so far, while `y` is the next element in the list"
   ]
  },
  {
   "cell_type": "markdown",
   "metadata": {},
   "source": [
    "Of course you can combine all map, filter and reduce"
   ]
  },
  {
   "cell_type": "code",
   "execution_count": 18,
   "metadata": {},
   "outputs": [
    {
     "name": "stdout",
     "output_type": "stream",
     "text": [
      "14\n",
      "14\n"
     ]
    }
   ],
   "source": [
    "items = [1, 2, 3, 4, 5]\n",
    "\n",
    "squared = map(lambda x: x**2, items)\n",
    "squared_smaller_than_ten = filter(lambda x: x<10, squared)\n",
    "sum_of_squared_smaller_than_ten = reduce(lambda x, y: x + y, squared_smaller_than_ten)\n",
    "print(sum_of_squared_smaller_than_ten)\n",
    "\n",
    "#Can be expressed in one go\n",
    "sum_of_squared_smaller_than_ten = reduce(lambda x, y: x + y,filter(lambda x: x < 10, map(lambda x: x**2, items)))\n",
    "print(sum_of_squared_smaller_than_ten)"
   ]
  },
  {
   "cell_type": "markdown",
   "metadata": {},
   "source": [
    "## A closing note on map, filter and reduce"
   ]
  },
  {
   "cell_type": "markdown",
   "metadata": {},
   "source": [
    "* These are notions typical of so-called _functional programming languages_\n",
    "  * Languages somehow close to the mathematical language/mathematical way of thinking, \n",
    "  * Everything is a function, and computation evolves by evaluating the correct functions\n",
    "* They don't enrich the expressive power of Python\n",
    "  * But they allow you to write more compact code avoiding loops and if.\n",
    "* They became mainstream (supported e.g. in Java or .NET languages) about 5/10 years ago"
   ]
  },
  {
   "cell_type": "markdown",
   "metadata": {},
   "source": [
    "My personal opinion:\n",
    "* These are advanced programming features that you might not need (and might not understand :D ) as comprehensions should be enough for most of your problems\n",
    "* Performance-wise, they are not so different.\n",
    "* Nevertheless, you might encounter them when googling for a solution for a problem\n",
    "* Therefore you should know them, while I suggest you to use comprehensions whenever possible"
   ]
  }
 ],
 "metadata": {
  "kernelspec": {
   "display_name": "env_intro2python1920",
   "language": "python",
   "name": "env_intro2python1920"
  },
  "language_info": {
   "codemirror_mode": {
    "name": "ipython",
    "version": 3
   },
   "file_extension": ".py",
   "mimetype": "text/x-python",
   "name": "python",
   "nbconvert_exporter": "python",
   "pygments_lexer": "ipython3",
   "version": "3.8.2"
  },
  "toc-showtags": false
 },
 "nbformat": 4,
 "nbformat_minor": 4
}
