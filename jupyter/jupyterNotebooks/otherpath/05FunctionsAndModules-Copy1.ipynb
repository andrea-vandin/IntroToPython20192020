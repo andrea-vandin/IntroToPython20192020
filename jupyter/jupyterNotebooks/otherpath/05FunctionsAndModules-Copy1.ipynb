{
 "cells": [
  {
   "cell_type": "markdown",
   "metadata": {},
   "source": [
    "<font size=\"+4\">Functions and modules</font><br/>\n",
    "<font size=\"+2\"> how to get more readable and manutenable code by avoiding spaghetti code</font>"
   ]
  },
  {
   "cell_type": "markdown",
   "metadata": {},
   "source": [
    "This is a notebook used as 'slides' for the class 5.\n",
    "\n",
    "---"
   ]
  },
  {
   "cell_type": "markdown",
   "metadata": {},
   "source": [
    "# Intro: copy-pasting is not a good idea when programming"
   ]
  },
  {
   "cell_type": "code",
   "execution_count": 1,
   "metadata": {},
   "outputs": [
    {
     "name": "stdout",
     "output_type": "stream",
     "text": [
      "0\n",
      "1\n",
      "2\n",
      "3\n",
      "4\n",
      "5\n",
      "6\n",
      "7\n",
      "8\n",
      "9\n"
     ]
    }
   ],
   "source": [
    "i=0\n",
    "print(i)\n",
    "i+=1\n",
    "print(i)\n",
    "i+=1\n",
    "print(i)\n",
    "i+=1\n",
    "print(i)\n",
    "i+=1\n",
    "print(i)\n",
    "i+=1\n",
    "print(i)\n",
    "i+=1\n",
    "print(i)\n",
    "i+=1\n",
    "print(i)\n",
    "i+=1\n",
    "print(i)\n",
    "i+=1\n",
    "print(i)"
   ]
  },
  {
   "cell_type": "code",
   "execution_count": 5,
   "metadata": {},
   "outputs": [
    {
     "name": "stdout",
     "output_type": "stream",
     "text": [
      "0\n",
      "2\n",
      "4\n",
      "6\n",
      "8\n",
      "10\n",
      "12\n",
      "14\n",
      "16\n",
      "18\n"
     ]
    }
   ],
   "source": [
    "i=0\n",
    "print(i)\n",
    "i+=2\n",
    "print(i)\n",
    "i+=2\n",
    "print(i)\n",
    "i+=2\n",
    "print(i)\n",
    "i+=2\n",
    "print(i)\n",
    "i+=2\n",
    "print(i)\n",
    "i+=2\n",
    "print(i)\n",
    "i+=2\n",
    "print(i)\n",
    "i+=2\n",
    "print(i)\n",
    "i+=2\n",
    "print(i)"
   ]
  },
  {
   "cell_type": "code",
   "execution_count": 20,
   "metadata": {},
   "outputs": [
    {
     "name": "stdout",
     "output_type": "stream",
     "text": [
      "0\n",
      "2\n",
      "4\n",
      "6\n",
      "8\n",
      "10\n",
      "12\n",
      "14\n",
      "16\n",
      "18\n"
     ]
    }
   ],
   "source": [
    "i=0\n",
    "print(i)\n",
    "for j in range(1,10) :\n",
    "    #i+=1\n",
    "    i+=2\n",
    "    print(i)"
   ]
  },
  {
   "cell_type": "code",
   "execution_count": 31,
   "metadata": {},
   "outputs": [
    {
     "name": "stdout",
     "output_type": "stream",
     "text": [
      "Withdrawing 7 succeeded. \n",
      "We are left with 13\n"
     ]
    }
   ],
   "source": [
    "deposit = 20\n",
    "withdraw = 7\n",
    "\n",
    "if deposit > withdraw :\n",
    "    deposit -= withdraw\n",
    "    print('Withdrawing',withdraw,'succeeded. ') \n",
    "    print('We are left with',deposit)\n",
    "else:\n",
    "    missing = withdraw - deposit \n",
    "    print('Withdrawing',withdraw,'failed. You miss',missing)\n",
    "    print('You can withdraw up to ',deposit)"
   ]
  },
  {
   "cell_type": "markdown",
   "metadata": {},
   "source": [
    "After several copy paste and modifications ...\n",
    "* withdraw= 7, 9, 5\n",
    "* \"\\n\" then\n",
    "* \"\\n\" else\n",
    "* 4\n",
    "\n",
    "You get the following code ..."
   ]
  },
  {
   "cell_type": "code",
   "execution_count": 46,
   "metadata": {},
   "outputs": [
    {
     "name": "stdout",
     "output_type": "stream",
     "text": [
      "Withdrawing 7 succeeded. \n",
      "We are left with 13 \n",
      "\n",
      "Withdrawing 9 succeeded. \n",
      "We are left with 4 \n",
      "\n",
      "Withdrawing 5 failed. You miss 1\n",
      "You can withdraw up to  4 \n",
      "\n"
     ]
    }
   ],
   "source": [
    "deposit = 20\n",
    "\n",
    "withdraw = 7\n",
    "if deposit > withdraw :\n",
    "    deposit -= withdraw\n",
    "    print('Withdrawing',withdraw,'succeeded. ') \n",
    "    print('We are left with',deposit,\"\\n\")\n",
    "else:\n",
    "    missing = withdraw - deposit \n",
    "    print('Withdrawing',withdraw,'failed. You miss',missing)\n",
    "    print('You can withdraw up to ',deposit,\"\\n\")\n",
    "    \n",
    "withdraw = 9    \n",
    "if deposit > withdraw :\n",
    "    deposit -= withdraw\n",
    "    print('Withdrawing',withdraw,'succeeded. ') \n",
    "    print('We are left with',deposit,\"\\n\")\n",
    "else:\n",
    "    missing = withdraw - deposit \n",
    "    print('Withdrawing',withdraw,'failed. You miss',missing)\n",
    "    print('You can withdraw up to ',deposit,\"\\n\")\n",
    "    \n",
    "withdraw = 5 \n",
    "if deposit > withdraw :\n",
    "    deposit -= withdraw\n",
    "    print('Withdrawing',withdraw,'succeeded. ') \n",
    "    print('We are left with',deposit,\"\\n\")\n",
    "else:\n",
    "    missing = withdraw - deposit \n",
    "    print('Withdrawing',withdraw,'failed. You miss',missing)\n",
    "    print('You can withdraw up to ',deposit,\"\\n\")\n",
    "\n",
    "#withdraw = 4\n",
    "# if deposit > withdraw :\n",
    "#     deposit -= withdraw\n",
    "#     print('Withdrawing',withdraw,'succeeded. ') \n",
    "#     print('We are left with',deposit,\"\\n\")\n",
    "# else:\n",
    "#     missing = withdraw - deposit \n",
    "#     print('Withdrawing',withdraw,'failed. You miss',missing)\n",
    "#     print('You can withdraw up to ',deposit,\"\\n\")    "
   ]
  },
  {
   "cell_type": "markdown",
   "metadata": {},
   "source": [
    "We made a mistake in the guard of the `if`\n",
    "* **We now have to fix the error in all the copies!**"
   ]
  },
  {
   "cell_type": "code",
   "execution_count": 47,
   "metadata": {},
   "outputs": [
    {
     "name": "stdout",
     "output_type": "stream",
     "text": [
      "Withdrawing 7 succeeded. \n",
      "We are left with 13 \n",
      "\n",
      "Withdrawing 9 succeeded. \n",
      "We are left with 4 \n",
      "\n",
      "Withdrawing 5 failed. You miss 1\n",
      "You can withdraw up to  4 \n",
      "\n",
      "Withdrawing 4 succeeded. \n",
      "We are left with 0 \n",
      "\n"
     ]
    }
   ],
   "source": [
    "deposit = 20\n",
    "\n",
    "withdraw = 7\n",
    "if deposit >= withdraw :\n",
    "    deposit -= withdraw\n",
    "    print('Withdrawing',withdraw,'succeeded. ') \n",
    "    print('We are left with',deposit,\"\\n\")\n",
    "else:\n",
    "    missing = withdraw - deposit \n",
    "    print('Withdrawing',withdraw,'failed. You miss',missing)\n",
    "    print('You can withdraw up to ',deposit,\"\\n\")\n",
    "    \n",
    "withdraw = 9    \n",
    "if deposit >= withdraw :\n",
    "    deposit -= withdraw\n",
    "    print('Withdrawing',withdraw,'succeeded. ') \n",
    "    print('We are left with',deposit,\"\\n\")\n",
    "else:\n",
    "    missing = withdraw - deposit \n",
    "    print('Withdrawing',withdraw,'failed. You miss',missing)\n",
    "    print('You can withdraw up to ',deposit,\"\\n\")\n",
    "    \n",
    "withdraw = 5 \n",
    "if deposit >= withdraw :\n",
    "    deposit -= withdraw\n",
    "    print('Withdrawing',withdraw,'succeeded. ') \n",
    "    print('We are left with',deposit,\"\\n\")\n",
    "else:\n",
    "    missing = withdraw - deposit \n",
    "    print('Withdrawing',withdraw,'failed. You miss',missing)\n",
    "    print('You can withdraw up to ',deposit,\"\\n\")\n",
    "    \n",
    "withdraw = 4\n",
    "if deposit >= withdraw :\n",
    "    deposit -= withdraw\n",
    "    print('Withdrawing',withdraw,'succeeded. ') \n",
    "    print('We are left with',deposit,\"\\n\")\n",
    "else:\n",
    "    missing = withdraw - deposit \n",
    "    print('Withdrawing',withdraw,'failed. You miss',missing)\n",
    "    print('You can withdraw up to ',deposit,\"\\n\")    "
   ]
  },
  {
   "cell_type": "code",
   "execution_count": 52,
   "metadata": {},
   "outputs": [
    {
     "name": "stdout",
     "output_type": "stream",
     "text": [
      "Withdrawing 7 succeeded. \n",
      "We are left with 13 \n",
      "\n",
      "Withdrawing 9 succeeded. \n",
      "We are left with 4 \n",
      "\n",
      "Withdrawing 5 failed. You miss 1\n",
      "You can withdraw up to  4 \n",
      "\n",
      "Withdrawing 4 succeeded. \n",
      "We are left with 0 \n",
      "\n"
     ]
    }
   ],
   "source": [
    "def withdraw_amoount(deposit,withdraw):\n",
    "    if deposit >= withdraw :\n",
    "        deposit-=withdraw\n",
    "        print('Withdrawing',withdraw,'succeeded. ') \n",
    "        print('We are left with',deposit,\"\\n\")\n",
    "    else:\n",
    "        missing = withdraw - deposit \n",
    "        print('Withdrawing',withdraw,'failed. You miss',missing)\n",
    "        print('You can withdraw up to ',deposit,\"\\n\")\n",
    "    return deposit\n",
    "\n",
    "deposit = 20\n",
    "\n",
    "withdraw = 7\n",
    "deposit = withdraw_amoount(deposit,withdraw)\n",
    "\n",
    "withdraw = 9\n",
    "deposit = withdraw_amoount(deposit,withdraw)\n",
    "\n",
    "withdraw = 5\n",
    "deposit = withdraw_amoount(deposit,withdraw)\n",
    "\n",
    "withdraw = 4\n",
    "deposit = withdraw_amoount(deposit,withdraw)"
   ]
  },
  {
   "cell_type": "markdown",
   "metadata": {},
   "source": [
    "# Functions"
   ]
  },
  {
   "cell_type": "markdown",
   "metadata": {},
   "source": [
    "Functions (in certain cases called procedures) are a key notion in programming\n",
    "* Enables the **procedural programming style** mentioned in the first class\n",
    "  * Decompose a problem into more smaller problems\n",
    "  * Decouple the program logic (what the program does) from the data (what the program manipulates)\n",
    "  * Therefore increase readability and manutenability of programs\n",
    "\n",
    "A parallel with mathematical functions like $x1= max(x2,x3)$. <br/>\n",
    "Functions:\n",
    "* might have arguments ($x_2,x_3$, the __parameters__)\n",
    "* execute a number of computations based on the arguments (the statements composing its __body__)\n",
    "* might return a computed value (the __return value__)"
   ]
  },
  {
   "cell_type": "code",
   "execution_count": null,
   "metadata": {},
   "outputs": [],
   "source": []
  },
  {
   "cell_type": "code",
   "execution_count": null,
   "metadata": {},
   "outputs": [],
   "source": []
  },
  {
   "cell_type": "code",
   "execution_count": null,
   "metadata": {},
   "outputs": [],
   "source": []
  },
  {
   "cell_type": "code",
   "execution_count": null,
   "metadata": {},
   "outputs": [],
   "source": []
  },
  {
   "cell_type": "code",
   "execution_count": null,
   "metadata": {},
   "outputs": [],
   "source": []
  },
  {
   "cell_type": "code",
   "execution_count": null,
   "metadata": {},
   "outputs": [],
   "source": []
  },
  {
   "cell_type": "code",
   "execution_count": null,
   "metadata": {},
   "outputs": [],
   "source": []
  },
  {
   "cell_type": "code",
   "execution_count": null,
   "metadata": {},
   "outputs": [],
   "source": []
  },
  {
   "cell_type": "markdown",
   "metadata": {},
   "source": [
    "Now, of course, your boss wants to change the way withdraws are handled\n",
    "* You can withdraw part of what required, as long as you don't go below 0"
   ]
  },
  {
   "cell_type": "code",
   "execution_count": 51,
   "metadata": {},
   "outputs": [
    {
     "name": "stdout",
     "output_type": "stream",
     "text": [
      "Withdrawing 7 succeeded. \n",
      "We are left with 13 \n",
      "\n",
      "Withdrawing 9 succeeded. \n",
      "We are left with 4 \n",
      "\n",
      "Withdrawing 5 failed. \n",
      "We withdrew 4 remaining with 0 \n",
      "\n",
      "Withdrawing 4 failed. \n",
      "We withdrew 0 remaining with 0 \n",
      "\n"
     ]
    }
   ],
   "source": [
    "def withdraw_amoount(deposit,withdraw):\n",
    "    if deposit >= withdraw :\n",
    "        deposit-=withdraw\n",
    "        print('Withdrawing',withdraw,'succeeded. ') \n",
    "        print('We are left with',deposit,\"\\n\")\n",
    "    else:\n",
    "        missing = withdraw - deposit \n",
    "        actualWithdraw = deposit\n",
    "        deposit = 0\n",
    "        print('Withdrawing',withdraw,'failed. ')\n",
    "        print('We withdrew',actualWithdraw,'remaining with',deposit,'\\n')\n",
    "        \n",
    "    return deposit\n",
    "\n",
    "deposit = 20\n",
    "\n",
    "withdraw = 7\n",
    "deposit = withdraw_amoount(deposit,withdraw)\n",
    "\n",
    "withdraw = 9\n",
    "deposit = withdraw_amoount(deposit,withdraw)\n",
    "\n",
    "withdraw = 5\n",
    "deposit = withdraw_amoount(deposit,withdraw)\n",
    "\n",
    "withdraw = 4\n",
    "deposit = withdraw_amoount(deposit,withdraw)"
   ]
  },
  {
   "cell_type": "code",
   "execution_count": null,
   "metadata": {},
   "outputs": [],
   "source": []
  }
 ],
 "metadata": {
  "kernelspec": {
   "display_name": "env_intro2python1920",
   "language": "python",
   "name": "env_intro2python1920"
  },
  "language_info": {
   "codemirror_mode": {
    "name": "ipython",
    "version": 3
   },
   "file_extension": ".py",
   "mimetype": "text/x-python",
   "name": "python",
   "nbconvert_exporter": "python",
   "pygments_lexer": "ipython3",
   "version": "3.8.2"
  }
 },
 "nbformat": 4,
 "nbformat_minor": 4
}
